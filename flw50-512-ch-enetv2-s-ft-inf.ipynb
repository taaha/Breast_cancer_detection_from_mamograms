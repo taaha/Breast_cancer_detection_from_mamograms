{
 "cells": [
  {
   "cell_type": "code",
   "execution_count": 1,
   "id": "bd889c43",
   "metadata": {
    "_cell_guid": "b1076dfc-b9ad-4769-8c92-a6c4dae69d19",
    "_uuid": "8f2839f25d086af736a60e9eeb907d3b93b6e0e5",
    "execution": {
     "iopub.execute_input": "2023-02-08T15:58:01.260534Z",
     "iopub.status.busy": "2023-02-08T15:58:01.259468Z",
     "iopub.status.idle": "2023-02-08T15:58:07.916190Z",
     "shell.execute_reply": "2023-02-08T15:58:07.915102Z"
    },
    "papermill": {
     "duration": 6.668039,
     "end_time": "2023-02-08T15:58:07.918799",
     "exception": false,
     "start_time": "2023-02-08T15:58:01.250760",
     "status": "completed"
    },
    "tags": []
   },
   "outputs": [],
   "source": [
    "# This Python 3 environment comes with many helpful analytics libraries installed\n",
    "# It is defined by the kaggle/python Docker image: https://github.com/kaggle/docker-python\n",
    "# For example, here's several helpful packages to load\n",
    "\n",
    "import torch\n",
    "import sys\n",
    "sys.path.append('../input/timm-pytorch-image-models/pytorch-image-models-master')\n",
    "import timm\n",
    "import numpy as np # linear algebra\n",
    "import pandas as pd # data processing, CSV file I/O (e.g. pd.read_csv)\n",
    "\n",
    "from timm.models.layers.adaptive_avgmax_pool import SelectAdaptivePool2d\n",
    "from torch.nn import Flatten\n",
    "\n",
    "from fastai.basics import *\n",
    "from fastai.callback.all import *\n",
    "from fastai.vision.all import *\n",
    "from fastai.medical.imaging import *\n",
    "\n",
    "#import pydicom\n",
    "#!pip install -qU python-gdcm pydicom pylibjpeg\n",
    "\n",
    "# Input data files are available in the read-only \"../input/\" directory\n",
    "# For example, running this (by clicking run or pressing Shift+Enter) will list all files under the input directory\n",
    "\n",
    "import os\n",
    "# for dirname, _, filenames in os.walk('/kaggle/input'):\n",
    "#     for filename in filenames:\n",
    "#         os.path.join(dirname, filename)\n",
    "\n",
    "# You can write up to 20GB to the current directory (/kaggle/working/) that gets preserved as output when you create a version using \"Save & Run All\" \n",
    "# You can also write temporary files to /kaggle/temp/, but they won't be saved outside of the current session"
   ]
  },
  {
   "cell_type": "code",
   "execution_count": 2,
   "id": "1f819256",
   "metadata": {
    "execution": {
     "iopub.execute_input": "2023-02-08T15:58:07.933169Z",
     "iopub.status.busy": "2023-02-08T15:58:07.931394Z",
     "iopub.status.idle": "2023-02-08T15:58:07.979461Z",
     "shell.execute_reply": "2023-02-08T15:58:07.978470Z"
    },
    "papermill": {
     "duration": 0.057914,
     "end_time": "2023-02-08T15:58:07.982586",
     "exception": false,
     "start_time": "2023-02-08T15:58:07.924672",
     "status": "completed"
    },
    "tags": []
   },
   "outputs": [
    {
     "name": "stdout",
     "output_type": "stream",
     "text": [
      "<class 'numpy.ndarray'>\n",
      "RGB shape:  (512, 512, 3)\n",
      "ARGB shape: (512, 512)\n",
      "Gray shape: (512, 512)\n",
      "img.dtype:  uint8\n",
      "img.size:  786432\n"
     ]
    }
   ],
   "source": [
    "import cv2\n",
    "import numpy as np\n",
    "\n",
    "img_file = '/kaggle/input/rsna-mammography-images-as-pngs/images_as_pngs_cv2_512/train_images_processed_cv2_512/10006/1459541791.png'\n",
    "img = cv2.imread(img_file, cv2.IMREAD_COLOR)           # rgb\n",
    "alpha_img = cv2.imread(img_file, cv2.IMREAD_UNCHANGED) # rgba\n",
    "gray_img = cv2.imread(img_file, cv2.IMREAD_GRAYSCALE)  # grayscale\n",
    "\n",
    "print(type(img))\n",
    "print('RGB shape: ', img.shape)        # Rows, cols, channels\n",
    "print('ARGB shape:', alpha_img.shape)\n",
    "print('Gray shape:', gray_img.shape)\n",
    "print('img.dtype: ', img.dtype)\n",
    "print('img.size: ', img.size)"
   ]
  },
  {
   "cell_type": "code",
   "execution_count": 3,
   "id": "f9505e44",
   "metadata": {
    "execution": {
     "iopub.execute_input": "2023-02-08T15:58:07.996015Z",
     "iopub.status.busy": "2023-02-08T15:58:07.995723Z",
     "iopub.status.idle": "2023-02-08T15:58:07.999670Z",
     "shell.execute_reply": "2023-02-08T15:58:07.998681Z"
    },
    "papermill": {
     "duration": 0.012568,
     "end_time": "2023-02-08T15:58:08.001564",
     "exception": false,
     "start_time": "2023-02-08T15:58:07.988996",
     "status": "completed"
    },
    "tags": []
   },
   "outputs": [],
   "source": [
    "# import cv2\n",
    "# import numpy as np\n",
    "\n",
    "# img_file = '/kaggle/working/png_file_dic/10008_1591370361.png'\n",
    "# img = cv2.imread(img_file, cv2.IMREAD_COLOR)           # rgb\n",
    "# alpha_img = cv2.imread(img_file, cv2.IMREAD_UNCHANGED) # rgba\n",
    "# gray_img = cv2.imread(img_file, cv2.IMREAD_GRAYSCALE)  # grayscale\n",
    "\n",
    "# print(type(img))\n",
    "# print('RGB shape: ', img.shape)        # Rows, cols, channels\n",
    "# print('ARGB shape:', alpha_img.shape)\n",
    "# print('Gray shape:', gray_img.shape)\n",
    "# print('img.dtype: ', img.dtype)\n",
    "# print('img.size: ', img.size)"
   ]
  },
  {
   "cell_type": "code",
   "execution_count": 4,
   "id": "aa97062e",
   "metadata": {
    "execution": {
     "iopub.execute_input": "2023-02-08T15:58:08.014077Z",
     "iopub.status.busy": "2023-02-08T15:58:08.013269Z",
     "iopub.status.idle": "2023-02-08T15:58:08.134031Z",
     "shell.execute_reply": "2023-02-08T15:58:08.132845Z"
    },
    "papermill": {
     "duration": 0.12942,
     "end_time": "2023-02-08T15:58:08.136311",
     "exception": false,
     "start_time": "2023-02-08T15:58:08.006891",
     "status": "completed"
    },
    "tags": []
   },
   "outputs": [
    {
     "data": {
      "text/html": [
       "<div>\n",
       "<style scoped>\n",
       "    .dataframe tbody tr th:only-of-type {\n",
       "        vertical-align: middle;\n",
       "    }\n",
       "\n",
       "    .dataframe tbody tr th {\n",
       "        vertical-align: top;\n",
       "    }\n",
       "\n",
       "    .dataframe thead th {\n",
       "        text-align: right;\n",
       "    }\n",
       "</style>\n",
       "<table border=\"1\" class=\"dataframe\">\n",
       "  <thead>\n",
       "    <tr style=\"text-align: right;\">\n",
       "      <th></th>\n",
       "      <th>site_id</th>\n",
       "      <th>patient_id</th>\n",
       "      <th>image_id</th>\n",
       "      <th>laterality</th>\n",
       "      <th>view</th>\n",
       "      <th>age</th>\n",
       "      <th>cancer</th>\n",
       "      <th>biopsy</th>\n",
       "      <th>invasive</th>\n",
       "      <th>BIRADS</th>\n",
       "      <th>implant</th>\n",
       "      <th>density</th>\n",
       "      <th>machine_id</th>\n",
       "      <th>difficult_negative_case</th>\n",
       "    </tr>\n",
       "  </thead>\n",
       "  <tbody>\n",
       "    <tr>\n",
       "      <th>0</th>\n",
       "      <td>2</td>\n",
       "      <td>10006</td>\n",
       "      <td>462822612</td>\n",
       "      <td>L</td>\n",
       "      <td>CC</td>\n",
       "      <td>61.0</td>\n",
       "      <td>0</td>\n",
       "      <td>0</td>\n",
       "      <td>0</td>\n",
       "      <td>NaN</td>\n",
       "      <td>0</td>\n",
       "      <td>NaN</td>\n",
       "      <td>29</td>\n",
       "      <td>False</td>\n",
       "    </tr>\n",
       "    <tr>\n",
       "      <th>1</th>\n",
       "      <td>2</td>\n",
       "      <td>10006</td>\n",
       "      <td>1459541791</td>\n",
       "      <td>L</td>\n",
       "      <td>MLO</td>\n",
       "      <td>61.0</td>\n",
       "      <td>0</td>\n",
       "      <td>0</td>\n",
       "      <td>0</td>\n",
       "      <td>NaN</td>\n",
       "      <td>0</td>\n",
       "      <td>NaN</td>\n",
       "      <td>29</td>\n",
       "      <td>False</td>\n",
       "    </tr>\n",
       "    <tr>\n",
       "      <th>2</th>\n",
       "      <td>2</td>\n",
       "      <td>10006</td>\n",
       "      <td>1864590858</td>\n",
       "      <td>R</td>\n",
       "      <td>MLO</td>\n",
       "      <td>61.0</td>\n",
       "      <td>0</td>\n",
       "      <td>0</td>\n",
       "      <td>0</td>\n",
       "      <td>NaN</td>\n",
       "      <td>0</td>\n",
       "      <td>NaN</td>\n",
       "      <td>29</td>\n",
       "      <td>False</td>\n",
       "    </tr>\n",
       "    <tr>\n",
       "      <th>3</th>\n",
       "      <td>2</td>\n",
       "      <td>10006</td>\n",
       "      <td>1874946579</td>\n",
       "      <td>R</td>\n",
       "      <td>CC</td>\n",
       "      <td>61.0</td>\n",
       "      <td>0</td>\n",
       "      <td>0</td>\n",
       "      <td>0</td>\n",
       "      <td>NaN</td>\n",
       "      <td>0</td>\n",
       "      <td>NaN</td>\n",
       "      <td>29</td>\n",
       "      <td>False</td>\n",
       "    </tr>\n",
       "    <tr>\n",
       "      <th>4</th>\n",
       "      <td>2</td>\n",
       "      <td>10011</td>\n",
       "      <td>220375232</td>\n",
       "      <td>L</td>\n",
       "      <td>CC</td>\n",
       "      <td>55.0</td>\n",
       "      <td>0</td>\n",
       "      <td>0</td>\n",
       "      <td>0</td>\n",
       "      <td>0.0</td>\n",
       "      <td>0</td>\n",
       "      <td>NaN</td>\n",
       "      <td>21</td>\n",
       "      <td>True</td>\n",
       "    </tr>\n",
       "  </tbody>\n",
       "</table>\n",
       "</div>"
      ],
      "text/plain": [
       "   site_id  patient_id    image_id laterality view   age  cancer  biopsy  \\\n",
       "0        2       10006   462822612          L   CC  61.0       0       0   \n",
       "1        2       10006  1459541791          L  MLO  61.0       0       0   \n",
       "2        2       10006  1864590858          R  MLO  61.0       0       0   \n",
       "3        2       10006  1874946579          R   CC  61.0       0       0   \n",
       "4        2       10011   220375232          L   CC  55.0       0       0   \n",
       "\n",
       "   invasive  BIRADS  implant density  machine_id  difficult_negative_case  \n",
       "0         0     NaN        0     NaN          29                    False  \n",
       "1         0     NaN        0     NaN          29                    False  \n",
       "2         0     NaN        0     NaN          29                    False  \n",
       "3         0     NaN        0     NaN          29                    False  \n",
       "4         0     0.0        0     NaN          21                     True  "
      ]
     },
     "execution_count": 4,
     "metadata": {},
     "output_type": "execute_result"
    }
   ],
   "source": [
    "df = pd.read_csv('/kaggle/input/rsna-breast-cancer-detection/train.csv')\n",
    "df.head()"
   ]
  },
  {
   "cell_type": "code",
   "execution_count": 5,
   "id": "54ec81c6",
   "metadata": {
    "execution": {
     "iopub.execute_input": "2023-02-08T15:58:08.149947Z",
     "iopub.status.busy": "2023-02-08T15:58:08.149646Z",
     "iopub.status.idle": "2023-02-08T15:58:08.260928Z",
     "shell.execute_reply": "2023-02-08T15:58:08.259816Z"
    },
    "papermill": {
     "duration": 0.120861,
     "end_time": "2023-02-08T15:58:08.263757",
     "exception": false,
     "start_time": "2023-02-08T15:58:08.142896",
     "status": "completed"
    },
    "tags": []
   },
   "outputs": [
    {
     "data": {
      "text/html": [
       "<div>\n",
       "<style scoped>\n",
       "    .dataframe tbody tr th:only-of-type {\n",
       "        vertical-align: middle;\n",
       "    }\n",
       "\n",
       "    .dataframe tbody tr th {\n",
       "        vertical-align: top;\n",
       "    }\n",
       "\n",
       "    .dataframe thead th {\n",
       "        text-align: right;\n",
       "    }\n",
       "</style>\n",
       "<table border=\"1\" class=\"dataframe\">\n",
       "  <thead>\n",
       "    <tr style=\"text-align: right;\">\n",
       "      <th></th>\n",
       "      <th>site_id</th>\n",
       "      <th>patient_id</th>\n",
       "      <th>image_id</th>\n",
       "      <th>laterality</th>\n",
       "      <th>view</th>\n",
       "      <th>age</th>\n",
       "      <th>cancer</th>\n",
       "      <th>biopsy</th>\n",
       "      <th>invasive</th>\n",
       "      <th>BIRADS</th>\n",
       "      <th>implant</th>\n",
       "      <th>density</th>\n",
       "      <th>machine_id</th>\n",
       "      <th>difficult_negative_case</th>\n",
       "      <th>filepath</th>\n",
       "    </tr>\n",
       "  </thead>\n",
       "  <tbody>\n",
       "    <tr>\n",
       "      <th>0</th>\n",
       "      <td>2</td>\n",
       "      <td>10006</td>\n",
       "      <td>462822612</td>\n",
       "      <td>L</td>\n",
       "      <td>CC</td>\n",
       "      <td>61.0</td>\n",
       "      <td>0</td>\n",
       "      <td>0</td>\n",
       "      <td>0</td>\n",
       "      <td>NaN</td>\n",
       "      <td>0</td>\n",
       "      <td>NaN</td>\n",
       "      <td>29</td>\n",
       "      <td>False</td>\n",
       "      <td>/kaggle/input/rsna-mammography-images-as-pngs/images_as_pngs_cv2_512/train_images_processed_cv2_512/10006/462822612.png</td>\n",
       "    </tr>\n",
       "    <tr>\n",
       "      <th>1</th>\n",
       "      <td>2</td>\n",
       "      <td>10006</td>\n",
       "      <td>1459541791</td>\n",
       "      <td>L</td>\n",
       "      <td>MLO</td>\n",
       "      <td>61.0</td>\n",
       "      <td>0</td>\n",
       "      <td>0</td>\n",
       "      <td>0</td>\n",
       "      <td>NaN</td>\n",
       "      <td>0</td>\n",
       "      <td>NaN</td>\n",
       "      <td>29</td>\n",
       "      <td>False</td>\n",
       "      <td>/kaggle/input/rsna-mammography-images-as-pngs/images_as_pngs_cv2_512/train_images_processed_cv2_512/10006/1459541791.png</td>\n",
       "    </tr>\n",
       "    <tr>\n",
       "      <th>2</th>\n",
       "      <td>2</td>\n",
       "      <td>10006</td>\n",
       "      <td>1864590858</td>\n",
       "      <td>R</td>\n",
       "      <td>MLO</td>\n",
       "      <td>61.0</td>\n",
       "      <td>0</td>\n",
       "      <td>0</td>\n",
       "      <td>0</td>\n",
       "      <td>NaN</td>\n",
       "      <td>0</td>\n",
       "      <td>NaN</td>\n",
       "      <td>29</td>\n",
       "      <td>False</td>\n",
       "      <td>/kaggle/input/rsna-mammography-images-as-pngs/images_as_pngs_cv2_512/train_images_processed_cv2_512/10006/1864590858.png</td>\n",
       "    </tr>\n",
       "    <tr>\n",
       "      <th>3</th>\n",
       "      <td>2</td>\n",
       "      <td>10006</td>\n",
       "      <td>1874946579</td>\n",
       "      <td>R</td>\n",
       "      <td>CC</td>\n",
       "      <td>61.0</td>\n",
       "      <td>0</td>\n",
       "      <td>0</td>\n",
       "      <td>0</td>\n",
       "      <td>NaN</td>\n",
       "      <td>0</td>\n",
       "      <td>NaN</td>\n",
       "      <td>29</td>\n",
       "      <td>False</td>\n",
       "      <td>/kaggle/input/rsna-mammography-images-as-pngs/images_as_pngs_cv2_512/train_images_processed_cv2_512/10006/1874946579.png</td>\n",
       "    </tr>\n",
       "    <tr>\n",
       "      <th>4</th>\n",
       "      <td>2</td>\n",
       "      <td>10011</td>\n",
       "      <td>220375232</td>\n",
       "      <td>L</td>\n",
       "      <td>CC</td>\n",
       "      <td>55.0</td>\n",
       "      <td>0</td>\n",
       "      <td>0</td>\n",
       "      <td>0</td>\n",
       "      <td>0.0</td>\n",
       "      <td>0</td>\n",
       "      <td>NaN</td>\n",
       "      <td>21</td>\n",
       "      <td>True</td>\n",
       "      <td>/kaggle/input/rsna-mammography-images-as-pngs/images_as_pngs_cv2_512/train_images_processed_cv2_512/10011/220375232.png</td>\n",
       "    </tr>\n",
       "  </tbody>\n",
       "</table>\n",
       "</div>"
      ],
      "text/plain": [
       "   site_id  patient_id    image_id laterality view   age  cancer  biopsy  \\\n",
       "0        2       10006   462822612          L   CC  61.0       0       0   \n",
       "1        2       10006  1459541791          L  MLO  61.0       0       0   \n",
       "2        2       10006  1864590858          R  MLO  61.0       0       0   \n",
       "3        2       10006  1874946579          R   CC  61.0       0       0   \n",
       "4        2       10011   220375232          L   CC  55.0       0       0   \n",
       "\n",
       "   invasive  BIRADS  implant density  machine_id  difficult_negative_case  \\\n",
       "0         0     NaN        0     NaN          29                    False   \n",
       "1         0     NaN        0     NaN          29                    False   \n",
       "2         0     NaN        0     NaN          29                    False   \n",
       "3         0     NaN        0     NaN          29                    False   \n",
       "4         0     0.0        0     NaN          21                     True   \n",
       "\n",
       "                                                                                                                   filepath  \n",
       "0   /kaggle/input/rsna-mammography-images-as-pngs/images_as_pngs_cv2_512/train_images_processed_cv2_512/10006/462822612.png  \n",
       "1  /kaggle/input/rsna-mammography-images-as-pngs/images_as_pngs_cv2_512/train_images_processed_cv2_512/10006/1459541791.png  \n",
       "2  /kaggle/input/rsna-mammography-images-as-pngs/images_as_pngs_cv2_512/train_images_processed_cv2_512/10006/1864590858.png  \n",
       "3  /kaggle/input/rsna-mammography-images-as-pngs/images_as_pngs_cv2_512/train_images_processed_cv2_512/10006/1874946579.png  \n",
       "4   /kaggle/input/rsna-mammography-images-as-pngs/images_as_pngs_cv2_512/train_images_processed_cv2_512/10011/220375232.png  "
      ]
     },
     "execution_count": 5,
     "metadata": {},
     "output_type": "execute_result"
    }
   ],
   "source": [
    "df['filepath'] = '/kaggle/input/rsna-mammography-images-as-pngs/images_as_pngs_cv2_512/train_images_processed_cv2_512/' + df['patient_id'].astype(str) + '/' + df['image_id'].astype(str) + '.png'\n",
    "df.head()"
   ]
  },
  {
   "cell_type": "code",
   "execution_count": 6,
   "id": "7f69c583",
   "metadata": {
    "execution": {
     "iopub.execute_input": "2023-02-08T15:58:08.277645Z",
     "iopub.status.busy": "2023-02-08T15:58:08.277323Z",
     "iopub.status.idle": "2023-02-08T15:58:08.295089Z",
     "shell.execute_reply": "2023-02-08T15:58:08.293979Z"
    },
    "papermill": {
     "duration": 0.027542,
     "end_time": "2023-02-08T15:58:08.297669",
     "exception": false,
     "start_time": "2023-02-08T15:58:08.270127",
     "status": "completed"
    },
    "tags": []
   },
   "outputs": [
    {
     "data": {
      "text/html": [
       "<div>\n",
       "<style scoped>\n",
       "    .dataframe tbody tr th:only-of-type {\n",
       "        vertical-align: middle;\n",
       "    }\n",
       "\n",
       "    .dataframe tbody tr th {\n",
       "        vertical-align: top;\n",
       "    }\n",
       "\n",
       "    .dataframe thead th {\n",
       "        text-align: right;\n",
       "    }\n",
       "</style>\n",
       "<table border=\"1\" class=\"dataframe\">\n",
       "  <thead>\n",
       "    <tr style=\"text-align: right;\">\n",
       "      <th></th>\n",
       "      <th>filepath</th>\n",
       "      <th>cancer</th>\n",
       "    </tr>\n",
       "  </thead>\n",
       "  <tbody>\n",
       "    <tr>\n",
       "      <th>0</th>\n",
       "      <td>/kaggle/input/rsna-mammography-images-as-pngs/images_as_pngs_cv2_512/train_images_processed_cv2_512/10006/462822612.png</td>\n",
       "      <td>0</td>\n",
       "    </tr>\n",
       "    <tr>\n",
       "      <th>1</th>\n",
       "      <td>/kaggle/input/rsna-mammography-images-as-pngs/images_as_pngs_cv2_512/train_images_processed_cv2_512/10006/1459541791.png</td>\n",
       "      <td>0</td>\n",
       "    </tr>\n",
       "    <tr>\n",
       "      <th>2</th>\n",
       "      <td>/kaggle/input/rsna-mammography-images-as-pngs/images_as_pngs_cv2_512/train_images_processed_cv2_512/10006/1864590858.png</td>\n",
       "      <td>0</td>\n",
       "    </tr>\n",
       "    <tr>\n",
       "      <th>3</th>\n",
       "      <td>/kaggle/input/rsna-mammography-images-as-pngs/images_as_pngs_cv2_512/train_images_processed_cv2_512/10006/1874946579.png</td>\n",
       "      <td>0</td>\n",
       "    </tr>\n",
       "    <tr>\n",
       "      <th>4</th>\n",
       "      <td>/kaggle/input/rsna-mammography-images-as-pngs/images_as_pngs_cv2_512/train_images_processed_cv2_512/10011/220375232.png</td>\n",
       "      <td>0</td>\n",
       "    </tr>\n",
       "  </tbody>\n",
       "</table>\n",
       "</div>"
      ],
      "text/plain": [
       "                                                                                                                   filepath  \\\n",
       "0   /kaggle/input/rsna-mammography-images-as-pngs/images_as_pngs_cv2_512/train_images_processed_cv2_512/10006/462822612.png   \n",
       "1  /kaggle/input/rsna-mammography-images-as-pngs/images_as_pngs_cv2_512/train_images_processed_cv2_512/10006/1459541791.png   \n",
       "2  /kaggle/input/rsna-mammography-images-as-pngs/images_as_pngs_cv2_512/train_images_processed_cv2_512/10006/1864590858.png   \n",
       "3  /kaggle/input/rsna-mammography-images-as-pngs/images_as_pngs_cv2_512/train_images_processed_cv2_512/10006/1874946579.png   \n",
       "4   /kaggle/input/rsna-mammography-images-as-pngs/images_as_pngs_cv2_512/train_images_processed_cv2_512/10011/220375232.png   \n",
       "\n",
       "   cancer  \n",
       "0       0  \n",
       "1       0  \n",
       "2       0  \n",
       "3       0  \n",
       "4       0  "
      ]
     },
     "execution_count": 6,
     "metadata": {},
     "output_type": "execute_result"
    }
   ],
   "source": [
    "df = df[['filepath', 'cancer']]\n",
    "df.head()"
   ]
  },
  {
   "cell_type": "code",
   "execution_count": 7,
   "id": "46fb8d8f",
   "metadata": {
    "execution": {
     "iopub.execute_input": "2023-02-08T15:58:08.312577Z",
     "iopub.status.busy": "2023-02-08T15:58:08.312284Z",
     "iopub.status.idle": "2023-02-08T15:58:08.316590Z",
     "shell.execute_reply": "2023-02-08T15:58:08.315683Z"
    },
    "papermill": {
     "duration": 0.013651,
     "end_time": "2023-02-08T15:58:08.318896",
     "exception": false,
     "start_time": "2023-02-08T15:58:08.305245",
     "status": "completed"
    },
    "tags": []
   },
   "outputs": [],
   "source": [
    "#learn_inf = load_learner('/kaggle/input/us512-enet-ft/export.pkl')"
   ]
  },
  {
   "cell_type": "code",
   "execution_count": 8,
   "id": "39cf6df4",
   "metadata": {
    "execution": {
     "iopub.execute_input": "2023-02-08T15:58:08.332748Z",
     "iopub.status.busy": "2023-02-08T15:58:08.331997Z",
     "iopub.status.idle": "2023-02-08T15:58:14.548554Z",
     "shell.execute_reply": "2023-02-08T15:58:14.547491Z"
    },
    "papermill": {
     "duration": 6.226121,
     "end_time": "2023-02-08T15:58:14.551024",
     "exception": false,
     "start_time": "2023-02-08T15:58:08.324903",
     "status": "completed"
    },
    "tags": []
   },
   "outputs": [],
   "source": [
    "db = DataBlock(blocks=(ImageBlock(), CategoryBlock),\n",
    "                   get_x=lambda x:x[0],\n",
    "                   get_y=lambda x:x[1],\n",
    "                   splitter  = RandomSplitter(seed=1))\n",
    "\n",
    "dls = db.dataloaders(df.values, num_workers=0, bs=32)"
   ]
  },
  {
   "cell_type": "code",
   "execution_count": 9,
   "id": "375c7b5f",
   "metadata": {
    "execution": {
     "iopub.execute_input": "2023-02-08T15:58:14.565690Z",
     "iopub.status.busy": "2023-02-08T15:58:14.564798Z",
     "iopub.status.idle": "2023-02-08T15:58:16.835048Z",
     "shell.execute_reply": "2023-02-08T15:58:16.834186Z"
    },
    "papermill": {
     "duration": 2.282645,
     "end_time": "2023-02-08T15:58:16.840172",
     "exception": false,
     "start_time": "2023-02-08T15:58:14.557527",
     "status": "completed"
    },
    "tags": []
   },
   "outputs": [
    {
     "data": {
      "image/png": "[encoded data removed]",
      "text/plain": [
       "<Figure size 864x864 with 16 Axes>"
      ]
     },
     "metadata": {
      "needs_background": "light"
     },
     "output_type": "display_data"
    }
   ],
   "source": [
    "dls.show_batch(max_n=16)"
   ]
  },
  {
   "cell_type": "code",
   "execution_count": 10,
   "id": "fcb267d3",
   "metadata": {
    "execution": {
     "iopub.execute_input": "2023-02-08T15:58:16.859650Z",
     "iopub.status.busy": "2023-02-08T15:58:16.859316Z",
     "iopub.status.idle": "2023-02-08T15:58:16.865285Z",
     "shell.execute_reply": "2023-02-08T15:58:16.864271Z"
    },
    "papermill": {
     "duration": 0.017964,
     "end_time": "2023-02-08T15:58:16.867522",
     "exception": false,
     "start_time": "2023-02-08T15:58:16.849558",
     "status": "completed"
    },
    "tags": []
   },
   "outputs": [],
   "source": [
    "def get_learner(arch=resnet18):\n",
    "    learner = vision_learner(\n",
    "        dls,\n",
    "        arch,\n",
    "        custom_head=nn.Sequential(SelectAdaptivePool2d(pool_type='avg', flatten=Flatten()), nn.Linear(1280, 2)),\n",
    "        metrics=[\n",
    "            error_rate,\n",
    "            accuracy,\n",
    "            F1Score()\n",
    "        ],\n",
    "        #loss_func=CrossEntropyLossFlat(weight=torch.tensor([1,20]).float()),\n",
    "        loss_func=FocalLossFlat(gamma=2),\n",
    "        pretrained=False,\n",
    "        #normalize=False\n",
    "    ).to_fp16()\n",
    "    return learner"
   ]
  },
  {
   "cell_type": "code",
   "execution_count": 11,
   "id": "ec713938",
   "metadata": {
    "execution": {
     "iopub.execute_input": "2023-02-08T15:58:16.886371Z",
     "iopub.status.busy": "2023-02-08T15:58:16.885559Z",
     "iopub.status.idle": "2023-02-08T15:58:17.275664Z",
     "shell.execute_reply": "2023-02-08T15:58:17.274544Z"
    },
    "papermill": {
     "duration": 0.402874,
     "end_time": "2023-02-08T15:58:17.278936",
     "exception": false,
     "start_time": "2023-02-08T15:58:16.876062",
     "status": "completed"
    },
    "tags": []
   },
   "outputs": [],
   "source": [
    "learn = get_learner('tf_efficientnetv2_s')"
   ]
  },
  {
   "cell_type": "code",
   "execution_count": 12,
   "id": "ffef60b6",
   "metadata": {
    "execution": {
     "iopub.execute_input": "2023-02-08T15:58:17.299018Z",
     "iopub.status.busy": "2023-02-08T15:58:17.298656Z",
     "iopub.status.idle": "2023-02-08T15:58:17.302950Z",
     "shell.execute_reply": "2023-02-08T15:58:17.301960Z"
    },
    "papermill": {
     "duration": 0.016215,
     "end_time": "2023-02-08T15:58:17.304773",
     "exception": false,
     "start_time": "2023-02-08T15:58:17.288558",
     "status": "completed"
    },
    "tags": []
   },
   "outputs": [],
   "source": [
    "#learn = get_learner('tf_efficientnetv2_s')"
   ]
  },
  {
   "cell_type": "code",
   "execution_count": 13,
   "id": "b08a23d5",
   "metadata": {
    "execution": {
     "iopub.execute_input": "2023-02-08T15:58:17.324347Z",
     "iopub.status.busy": "2023-02-08T15:58:17.323554Z",
     "iopub.status.idle": "2023-02-08T15:58:18.803288Z",
     "shell.execute_reply": "2023-02-08T15:58:18.802163Z"
    },
    "papermill": {
     "duration": 1.491758,
     "end_time": "2023-02-08T15:58:18.805308",
     "exception": false,
     "start_time": "2023-02-08T15:58:17.313550",
     "status": "completed"
    },
    "tags": []
   },
   "outputs": [
    {
     "name": "stderr",
     "output_type": "stream",
     "text": [
      "/opt/conda/lib/python3.7/site-packages/fastai/learner.py:58: UserWarning: Saved filed doesn't contain an optimizer state.\n",
      "  elif with_opt: warn(\"Saved filed doesn't contain an optimizer state.\")\n"
     ]
    },
    {
     "data": {
      "text/plain": [
       "<fastai.learner.Learner at 0x7f095c31a290>"
      ]
     },
     "execution_count": 13,
     "metadata": {},
     "output_type": "execute_result"
    }
   ],
   "source": [
    "learn.load('/kaggle/input/flw50-512-ch-enetv2s-ft/flw50_512_ch_enetv2_s_ft')"
   ]
  },
  {
   "cell_type": "markdown",
   "id": "09cc0dde",
   "metadata": {
    "papermill": {
     "duration": 0.009121,
     "end_time": "2023-02-08T15:58:18.823854",
     "exception": false,
     "start_time": "2023-02-08T15:58:18.814733",
     "status": "completed"
    },
    "tags": []
   },
   "source": [
    "# Submission|"
   ]
  },
  {
   "cell_type": "code",
   "execution_count": 14,
   "id": "061a5967",
   "metadata": {
    "execution": {
     "iopub.execute_input": "2023-02-08T15:58:18.843676Z",
     "iopub.status.busy": "2023-02-08T15:58:18.842819Z",
     "iopub.status.idle": "2023-02-08T15:58:26.623957Z",
     "shell.execute_reply": "2023-02-08T15:58:26.622791Z"
    },
    "papermill": {
     "duration": 7.79344,
     "end_time": "2023-02-08T15:58:26.626232",
     "exception": false,
     "start_time": "2023-02-08T15:58:18.832792",
     "status": "completed"
    },
    "tags": []
   },
   "outputs": [
    {
     "data": {
      "text/html": [
       "\n",
       "<style>\n",
       "    /* Turns off some styling */\n",
       "    progress {\n",
       "        /* gets rid of default border in Firefox and Opera. */\n",
       "        border: none;\n",
       "        /* Needs to be in here for Safari polyfill so background images work as expected. */\n",
       "        background-size: auto;\n",
       "    }\n",
       "    progress:not([value]), progress:not([value])::-webkit-progress-bar {\n",
       "        background: repeating-linear-gradient(45deg, #7e7e7e, #7e7e7e 10px, #5c5c5c 10px, #5c5c5c 20px);\n",
       "    }\n",
       "    .progress-bar-interrupted, .progress-bar-interrupted::-webkit-progress-bar {\n",
       "        background: #F44336;\n",
       "    }\n",
       "</style>\n"
      ],
      "text/plain": [
       "<IPython.core.display.HTML object>"
      ]
     },
     "metadata": {},
     "output_type": "display_data"
    },
    {
     "data": {
      "text/html": [],
      "text/plain": [
       "<IPython.core.display.HTML object>"
      ]
     },
     "metadata": {},
     "output_type": "display_data"
    },
    {
     "data": {
      "text/plain": [
       "'0'"
      ]
     },
     "execution_count": 14,
     "metadata": {},
     "output_type": "execute_result"
    }
   ],
   "source": [
    "temp = learn.predict('/kaggle/input/rsna-mammography-images-as-pngs/images_as_pngs_cv2_dicomsdl_512/train_images_processed_cv2_dicomsdl_512/10006/1459541791.png')\n",
    "temp[0]"
   ]
  },
  {
   "cell_type": "code",
   "execution_count": 15,
   "id": "c9ece97a",
   "metadata": {
    "execution": {
     "iopub.execute_input": "2023-02-08T15:58:26.646996Z",
     "iopub.status.busy": "2023-02-08T15:58:26.646650Z",
     "iopub.status.idle": "2023-02-08T15:58:26.664204Z",
     "shell.execute_reply": "2023-02-08T15:58:26.663156Z"
    },
    "papermill": {
     "duration": 0.030356,
     "end_time": "2023-02-08T15:58:26.666495",
     "exception": false,
     "start_time": "2023-02-08T15:58:26.636139",
     "status": "completed"
    },
    "tags": []
   },
   "outputs": [
    {
     "data": {
      "text/html": [
       "<div>\n",
       "<style scoped>\n",
       "    .dataframe tbody tr th:only-of-type {\n",
       "        vertical-align: middle;\n",
       "    }\n",
       "\n",
       "    .dataframe tbody tr th {\n",
       "        vertical-align: top;\n",
       "    }\n",
       "\n",
       "    .dataframe thead th {\n",
       "        text-align: right;\n",
       "    }\n",
       "</style>\n",
       "<table border=\"1\" class=\"dataframe\">\n",
       "  <thead>\n",
       "    <tr style=\"text-align: right;\">\n",
       "      <th></th>\n",
       "      <th>site_id</th>\n",
       "      <th>patient_id</th>\n",
       "      <th>image_id</th>\n",
       "      <th>laterality</th>\n",
       "      <th>view</th>\n",
       "      <th>age</th>\n",
       "      <th>implant</th>\n",
       "      <th>machine_id</th>\n",
       "      <th>prediction_id</th>\n",
       "    </tr>\n",
       "  </thead>\n",
       "  <tbody>\n",
       "    <tr>\n",
       "      <th>0</th>\n",
       "      <td>2</td>\n",
       "      <td>10008</td>\n",
       "      <td>736471439</td>\n",
       "      <td>L</td>\n",
       "      <td>MLO</td>\n",
       "      <td>81</td>\n",
       "      <td>0</td>\n",
       "      <td>21</td>\n",
       "      <td>10008_L</td>\n",
       "    </tr>\n",
       "    <tr>\n",
       "      <th>1</th>\n",
       "      <td>2</td>\n",
       "      <td>10008</td>\n",
       "      <td>1591370361</td>\n",
       "      <td>L</td>\n",
       "      <td>CC</td>\n",
       "      <td>81</td>\n",
       "      <td>0</td>\n",
       "      <td>21</td>\n",
       "      <td>10008_L</td>\n",
       "    </tr>\n",
       "    <tr>\n",
       "      <th>2</th>\n",
       "      <td>2</td>\n",
       "      <td>10008</td>\n",
       "      <td>68070693</td>\n",
       "      <td>R</td>\n",
       "      <td>MLO</td>\n",
       "      <td>81</td>\n",
       "      <td>0</td>\n",
       "      <td>21</td>\n",
       "      <td>10008_R</td>\n",
       "    </tr>\n",
       "    <tr>\n",
       "      <th>3</th>\n",
       "      <td>2</td>\n",
       "      <td>10008</td>\n",
       "      <td>361203119</td>\n",
       "      <td>R</td>\n",
       "      <td>CC</td>\n",
       "      <td>81</td>\n",
       "      <td>0</td>\n",
       "      <td>21</td>\n",
       "      <td>10008_R</td>\n",
       "    </tr>\n",
       "  </tbody>\n",
       "</table>\n",
       "</div>"
      ],
      "text/plain": [
       "   site_id  patient_id    image_id laterality view  age  implant  machine_id  \\\n",
       "0        2       10008   736471439          L  MLO   81        0          21   \n",
       "1        2       10008  1591370361          L   CC   81        0          21   \n",
       "2        2       10008    68070693          R  MLO   81        0          21   \n",
       "3        2       10008   361203119          R   CC   81        0          21   \n",
       "\n",
       "  prediction_id  \n",
       "0       10008_L  \n",
       "1       10008_L  \n",
       "2       10008_R  \n",
       "3       10008_R  "
      ]
     },
     "execution_count": 15,
     "metadata": {},
     "output_type": "execute_result"
    }
   ],
   "source": [
    "test_csv = pd.read_csv('/kaggle/input/rsna-breast-cancer-detection/test.csv')\n",
    "test_csv.head()"
   ]
  },
  {
   "cell_type": "code",
   "execution_count": 16,
   "id": "910c6b83",
   "metadata": {
    "execution": {
     "iopub.execute_input": "2023-02-08T15:58:26.687518Z",
     "iopub.status.busy": "2023-02-08T15:58:26.687214Z",
     "iopub.status.idle": "2023-02-08T15:58:26.692117Z",
     "shell.execute_reply": "2023-02-08T15:58:26.691132Z"
    },
    "papermill": {
     "duration": 0.017867,
     "end_time": "2023-02-08T15:58:26.694233",
     "exception": false,
     "start_time": "2023-02-08T15:58:26.676366",
     "status": "completed"
    },
    "tags": []
   },
   "outputs": [],
   "source": [
    "image_dir_dicomsdl = '/kaggle/working/png_file_dic/'\n",
    "\n",
    "os.makedirs(image_dir_dicomsdl, exist_ok=True)\n",
    "\n",
    "#IMAGES_TO_PROCESS = 500"
   ]
  },
  {
   "cell_type": "code",
   "execution_count": 17,
   "id": "171e56cc",
   "metadata": {
    "execution": {
     "iopub.execute_input": "2023-02-08T15:58:26.715397Z",
     "iopub.status.busy": "2023-02-08T15:58:26.714586Z",
     "iopub.status.idle": "2023-02-08T15:58:26.747895Z",
     "shell.execute_reply": "2023-02-08T15:58:26.746924Z"
    },
    "papermill": {
     "duration": 0.046131,
     "end_time": "2023-02-08T15:58:26.750116",
     "exception": false,
     "start_time": "2023-02-08T15:58:26.703985",
     "status": "completed"
    },
    "tags": []
   },
   "outputs": [
    {
     "data": {
      "text/plain": [
       "4"
      ]
     },
     "execution_count": 17,
     "metadata": {},
     "output_type": "execute_result"
    }
   ],
   "source": [
    "test_images = glob.glob(\"/kaggle/input/rsna-breast-cancer-detection/test_images/*/*.dcm\")\n",
    "len(test_images)"
   ]
  },
  {
   "cell_type": "code",
   "execution_count": 18,
   "id": "defcfb3b",
   "metadata": {
    "execution": {
     "iopub.execute_input": "2023-02-08T15:58:26.771348Z",
     "iopub.status.busy": "2023-02-08T15:58:26.770535Z",
     "iopub.status.idle": "2023-02-08T15:58:26.776951Z",
     "shell.execute_reply": "2023-02-08T15:58:26.775967Z"
    },
    "papermill": {
     "duration": 0.019236,
     "end_time": "2023-02-08T15:58:26.779062",
     "exception": false,
     "start_time": "2023-02-08T15:58:26.759826",
     "status": "completed"
    },
    "tags": []
   },
   "outputs": [
    {
     "data": {
      "text/plain": [
       "'/kaggle/input/rsna-breast-cancer-detection/test_images/10008/736471439.dcm'"
      ]
     },
     "execution_count": 18,
     "metadata": {},
     "output_type": "execute_result"
    }
   ],
   "source": [
    "test_images[0]"
   ]
  },
  {
   "cell_type": "code",
   "execution_count": 19,
   "id": "9d807117",
   "metadata": {
    "execution": {
     "iopub.execute_input": "2023-02-08T15:58:26.800575Z",
     "iopub.status.busy": "2023-02-08T15:58:26.799889Z",
     "iopub.status.idle": "2023-02-08T15:58:26.807107Z",
     "shell.execute_reply": "2023-02-08T15:58:26.806096Z"
    },
    "papermill": {
     "duration": 0.020313,
     "end_time": "2023-02-08T15:58:26.809254",
     "exception": false,
     "start_time": "2023-02-08T15:58:26.788941",
     "status": "completed"
    },
    "tags": []
   },
   "outputs": [],
   "source": [
    "def process(f, size=512, save_folder=None, extension=\"png\"):\n",
    "    \n",
    "    patient = f.split('/')[-2]\n",
    "    image_name = f.split('/')[-1][:-4]\n",
    "    \n",
    "    dicom = dicoml.open(f)\n",
    "    img = dicom.pixelData()\n",
    "\n",
    "    img = (img - img.min()) / (img.max() - img.min())\n",
    "\n",
    "    if dicom.getPixelDataInfo()['PhotometricInterpretation'] == \"MONOCHROME1\":\n",
    "        img = 1 - img\n",
    "\n",
    "    image = (img * 255).astype(np.uint8)\n",
    "    \n",
    "    img = cv2.resize(image, (size, size))\n",
    "\n",
    "    file_name = f'{save_folder}' + f\"{patient}_{image_name}.{extension}\"\n",
    "\n",
    "    cv2.imwrite(file_name, img)"
   ]
  },
  {
   "cell_type": "code",
   "execution_count": 20,
   "id": "06e7c07a",
   "metadata": {
    "execution": {
     "iopub.execute_input": "2023-02-08T15:58:26.830771Z",
     "iopub.status.busy": "2023-02-08T15:58:26.829982Z",
     "iopub.status.idle": "2023-02-08T15:58:58.221429Z",
     "shell.execute_reply": "2023-02-08T15:58:58.220207Z"
    },
    "papermill": {
     "duration": 31.404934,
     "end_time": "2023-02-08T15:58:58.224024",
     "exception": false,
     "start_time": "2023-02-08T15:58:26.819090",
     "status": "completed"
    },
    "tags": []
   },
   "outputs": [
    {
     "name": "stdout",
     "output_type": "stream",
     "text": [
      "Processing /kaggle/input/dicomsdl-offline-installer/dicomsdl-0.109.1-cp37-cp37m-manylinux_2_12_x86_64.manylinux2010_x86_64.whl\r\n",
      "Installing collected packages: dicomsdl\r\n",
      "Successfully installed dicomsdl-0.109.1\r\n",
      "\u001b[33mWARNING: Running pip as the 'root' user can result in broken permissions and conflicting behaviour with the system package manager. It is recommended to use a virtual environment instead: https://pip.pypa.io/warnings/venv\u001b[0m\u001b[33m\r\n",
      "\u001b[0m\u001b[33mWARNING: There was an error checking the latest version of pip.\u001b[0m\u001b[33m\r\n",
      "\u001b[0m"
     ]
    }
   ],
   "source": [
    "!pip install /kaggle/input/dicomsdl-offline-installer/dicomsdl-0.109.1-cp37-cp37m-manylinux_2_12_x86_64.manylinux2010_x86_64.whl"
   ]
  },
  {
   "cell_type": "code",
   "execution_count": 21,
   "id": "82d51a1d",
   "metadata": {
    "execution": {
     "iopub.execute_input": "2023-02-08T15:58:58.246303Z",
     "iopub.status.busy": "2023-02-08T15:58:58.245923Z",
     "iopub.status.idle": "2023-02-08T15:58:58.261197Z",
     "shell.execute_reply": "2023-02-08T15:58:58.260296Z"
    },
    "papermill": {
     "duration": 0.028741,
     "end_time": "2023-02-08T15:58:58.263353",
     "exception": false,
     "start_time": "2023-02-08T15:58:58.234612",
     "status": "completed"
    },
    "tags": []
   },
   "outputs": [],
   "source": [
    "import dicomsdl as dicoml\n",
    "import cv2\n",
    "import pydicom\n",
    "\n",
    "from joblib import Parallel, delayed\n",
    "import glob\n",
    "import time\n",
    "import numpy as np\n",
    "import os\n",
    "from matplotlib import pyplot as plt\n",
    "from tqdm import tqdm"
   ]
  },
  {
   "cell_type": "code",
   "execution_count": 22,
   "id": "f3a94d8c",
   "metadata": {
    "execution": {
     "iopub.execute_input": "2023-02-08T15:58:58.284384Z",
     "iopub.status.busy": "2023-02-08T15:58:58.283834Z",
     "iopub.status.idle": "2023-02-08T15:59:01.317508Z",
     "shell.execute_reply": "2023-02-08T15:59:01.316162Z"
    },
    "papermill": {
     "duration": 3.047269,
     "end_time": "2023-02-08T15:59:01.320410",
     "exception": false,
     "start_time": "2023-02-08T15:58:58.273141",
     "status": "completed"
    },
    "tags": []
   },
   "outputs": [
    {
     "data": {
      "text/plain": [
       "[None, None, None, None]"
      ]
     },
     "execution_count": 22,
     "metadata": {},
     "output_type": "execute_result"
    }
   ],
   "source": [
    "Parallel(n_jobs=4)(\n",
    "    delayed(process)(f, size = 512, save_folder = image_dir_dicomsdl)\n",
    "    for f in test_images\n",
    ")"
   ]
  },
  {
   "cell_type": "code",
   "execution_count": 23,
   "id": "d2362f97",
   "metadata": {
    "execution": {
     "iopub.execute_input": "2023-02-08T15:59:01.342997Z",
     "iopub.status.busy": "2023-02-08T15:59:01.341976Z",
     "iopub.status.idle": "2023-02-08T15:59:01.669746Z",
     "shell.execute_reply": "2023-02-08T15:59:01.668679Z"
    },
    "papermill": {
     "duration": 0.341327,
     "end_time": "2023-02-08T15:59:01.671993",
     "exception": false,
     "start_time": "2023-02-08T15:59:01.330666",
     "status": "completed"
    },
    "tags": []
   },
   "outputs": [
    {
     "data": {
      "text/html": [
       "\n",
       "<style>\n",
       "    /* Turns off some styling */\n",
       "    progress {\n",
       "        /* gets rid of default border in Firefox and Opera. */\n",
       "        border: none;\n",
       "        /* Needs to be in here for Safari polyfill so background images work as expected. */\n",
       "        background-size: auto;\n",
       "    }\n",
       "    progress:not([value]), progress:not([value])::-webkit-progress-bar {\n",
       "        background: repeating-linear-gradient(45deg, #7e7e7e, #7e7e7e 10px, #5c5c5c 10px, #5c5c5c 20px);\n",
       "    }\n",
       "    .progress-bar-interrupted, .progress-bar-interrupted::-webkit-progress-bar {\n",
       "        background: #F44336;\n",
       "    }\n",
       "</style>\n"
      ],
      "text/plain": [
       "<IPython.core.display.HTML object>"
      ]
     },
     "metadata": {},
     "output_type": "display_data"
    },
    {
     "data": {
      "text/html": [],
      "text/plain": [
       "<IPython.core.display.HTML object>"
      ]
     },
     "metadata": {},
     "output_type": "display_data"
    },
    {
     "data": {
      "text/html": [
       "\n",
       "<style>\n",
       "    /* Turns off some styling */\n",
       "    progress {\n",
       "        /* gets rid of default border in Firefox and Opera. */\n",
       "        border: none;\n",
       "        /* Needs to be in here for Safari polyfill so background images work as expected. */\n",
       "        background-size: auto;\n",
       "    }\n",
       "    progress:not([value]), progress:not([value])::-webkit-progress-bar {\n",
       "        background: repeating-linear-gradient(45deg, #7e7e7e, #7e7e7e 10px, #5c5c5c 10px, #5c5c5c 20px);\n",
       "    }\n",
       "    .progress-bar-interrupted, .progress-bar-interrupted::-webkit-progress-bar {\n",
       "        background: #F44336;\n",
       "    }\n",
       "</style>\n"
      ],
      "text/plain": [
       "<IPython.core.display.HTML object>"
      ]
     },
     "metadata": {},
     "output_type": "display_data"
    },
    {
     "data": {
      "text/html": [],
      "text/plain": [
       "<IPython.core.display.HTML object>"
      ]
     },
     "metadata": {},
     "output_type": "display_data"
    },
    {
     "data": {
      "text/html": [
       "\n",
       "<style>\n",
       "    /* Turns off some styling */\n",
       "    progress {\n",
       "        /* gets rid of default border in Firefox and Opera. */\n",
       "        border: none;\n",
       "        /* Needs to be in here for Safari polyfill so background images work as expected. */\n",
       "        background-size: auto;\n",
       "    }\n",
       "    progress:not([value]), progress:not([value])::-webkit-progress-bar {\n",
       "        background: repeating-linear-gradient(45deg, #7e7e7e, #7e7e7e 10px, #5c5c5c 10px, #5c5c5c 20px);\n",
       "    }\n",
       "    .progress-bar-interrupted, .progress-bar-interrupted::-webkit-progress-bar {\n",
       "        background: #F44336;\n",
       "    }\n",
       "</style>\n"
      ],
      "text/plain": [
       "<IPython.core.display.HTML object>"
      ]
     },
     "metadata": {},
     "output_type": "display_data"
    },
    {
     "data": {
      "text/html": [],
      "text/plain": [
       "<IPython.core.display.HTML object>"
      ]
     },
     "metadata": {},
     "output_type": "display_data"
    },
    {
     "data": {
      "text/html": [
       "\n",
       "<style>\n",
       "    /* Turns off some styling */\n",
       "    progress {\n",
       "        /* gets rid of default border in Firefox and Opera. */\n",
       "        border: none;\n",
       "        /* Needs to be in here for Safari polyfill so background images work as expected. */\n",
       "        background-size: auto;\n",
       "    }\n",
       "    progress:not([value]), progress:not([value])::-webkit-progress-bar {\n",
       "        background: repeating-linear-gradient(45deg, #7e7e7e, #7e7e7e 10px, #5c5c5c 10px, #5c5c5c 20px);\n",
       "    }\n",
       "    .progress-bar-interrupted, .progress-bar-interrupted::-webkit-progress-bar {\n",
       "        background: #F44336;\n",
       "    }\n",
       "</style>\n"
      ],
      "text/plain": [
       "<IPython.core.display.HTML object>"
      ]
     },
     "metadata": {},
     "output_type": "display_data"
    },
    {
     "data": {
      "text/html": [],
      "text/plain": [
       "<IPython.core.display.HTML object>"
      ]
     },
     "metadata": {},
     "output_type": "display_data"
    },
    {
     "data": {
      "text/html": [
       "<div>\n",
       "<style scoped>\n",
       "    .dataframe tbody tr th:only-of-type {\n",
       "        vertical-align: middle;\n",
       "    }\n",
       "\n",
       "    .dataframe tbody tr th {\n",
       "        vertical-align: top;\n",
       "    }\n",
       "\n",
       "    .dataframe thead th {\n",
       "        text-align: right;\n",
       "    }\n",
       "</style>\n",
       "<table border=\"1\" class=\"dataframe\">\n",
       "  <thead>\n",
       "    <tr style=\"text-align: right;\">\n",
       "      <th></th>\n",
       "      <th>prediction_id</th>\n",
       "      <th>cancer</th>\n",
       "    </tr>\n",
       "  </thead>\n",
       "  <tbody>\n",
       "    <tr>\n",
       "      <th>0</th>\n",
       "      <td>10008_L</td>\n",
       "      <td>0</td>\n",
       "    </tr>\n",
       "    <tr>\n",
       "      <th>1</th>\n",
       "      <td>10008_R</td>\n",
       "      <td>0</td>\n",
       "    </tr>\n",
       "  </tbody>\n",
       "</table>\n",
       "</div>"
      ],
      "text/plain": [
       "  prediction_id cancer\n",
       "0       10008_L      0\n",
       "1       10008_R      0"
      ]
     },
     "execution_count": 23,
     "metadata": {},
     "output_type": "execute_result"
    }
   ],
   "source": [
    "prediction_ids = []\n",
    "preds = []\n",
    "\n",
    "for _, row in test_csv.iterrows():\n",
    "    prediction_ids.append(row.prediction_id)\n",
    "    pred_image_path = image_dir_dicomsdl + str(row.patient_id) + '_' + str(row.image_id) + '.png'\n",
    "    pred = learn.predict(pred_image_path)[0]\n",
    "    preds.append(pred)\n",
    "\n",
    "submission = pd.DataFrame(data={'prediction_id': prediction_ids, 'cancer': preds}).groupby('prediction_id').max().reset_index()\n",
    "submission.head()"
   ]
  },
  {
   "cell_type": "code",
   "execution_count": 24,
   "id": "8169e859",
   "metadata": {
    "execution": {
     "iopub.execute_input": "2023-02-08T15:59:01.694980Z",
     "iopub.status.busy": "2023-02-08T15:59:01.694647Z",
     "iopub.status.idle": "2023-02-08T15:59:02.702371Z",
     "shell.execute_reply": "2023-02-08T15:59:02.700845Z"
    },
    "papermill": {
     "duration": 1.022105,
     "end_time": "2023-02-08T15:59:02.704902",
     "exception": false,
     "start_time": "2023-02-08T15:59:01.682797",
     "status": "completed"
    },
    "tags": []
   },
   "outputs": [],
   "source": [
    "!rm -r png_file_dic"
   ]
  },
  {
   "cell_type": "code",
   "execution_count": 25,
   "id": "3174f173",
   "metadata": {
    "execution": {
     "iopub.execute_input": "2023-02-08T15:59:02.729016Z",
     "iopub.status.busy": "2023-02-08T15:59:02.728079Z",
     "iopub.status.idle": "2023-02-08T15:59:03.732461Z",
     "shell.execute_reply": "2023-02-08T15:59:03.731019Z"
    },
    "papermill": {
     "duration": 1.019223,
     "end_time": "2023-02-08T15:59:03.735117",
     "exception": false,
     "start_time": "2023-02-08T15:59:02.715894",
     "status": "completed"
    },
    "tags": []
   },
   "outputs": [],
   "source": [
    "!rm -r models"
   ]
  },
  {
   "cell_type": "code",
   "execution_count": 26,
   "id": "27985f2b",
   "metadata": {
    "execution": {
     "iopub.execute_input": "2023-02-08T15:59:03.760110Z",
     "iopub.status.busy": "2023-02-08T15:59:03.759743Z",
     "iopub.status.idle": "2023-02-08T15:59:03.768741Z",
     "shell.execute_reply": "2023-02-08T15:59:03.767862Z"
    },
    "papermill": {
     "duration": 0.02343,
     "end_time": "2023-02-08T15:59:03.770771",
     "exception": false,
     "start_time": "2023-02-08T15:59:03.747341",
     "status": "completed"
    },
    "tags": []
   },
   "outputs": [],
   "source": [
    "submission.to_csv('submission.csv', index=False)"
   ]
  }
 ],
 "metadata": {
  "kernelspec": {
   "display_name": "Python 3",
   "language": "python",
   "name": "python3"
  },
  "language_info": {
   "codemirror_mode": {
    "name": "ipython",
    "version": 3
   },
   "file_extension": ".py",
   "mimetype": "text/x-python",
   "name": "python",
   "nbconvert_exporter": "python",
   "pygments_lexer": "ipython3",
   "version": "3.7.12"
  },
  "papermill": {
   "default_parameters": {},
   "duration": 73.806158,
   "end_time": "2023-02-08T15:59:06.602388",
   "environment_variables": {},
   "exception": null,
   "input_path": "__notebook__.ipynb",
   "output_path": "__notebook__.ipynb",
   "parameters": {},
   "start_time": "2023-02-08T15:57:52.796230",
   "version": "2.3.4"
  }
 },
 "nbformat": 4,
 "nbformat_minor": 5
}
