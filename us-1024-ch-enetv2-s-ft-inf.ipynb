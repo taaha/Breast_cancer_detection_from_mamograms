{
 "cells": [
  {
   "cell_type": "code",
   "execution_count": 1,
   "id": "84d3eb9d",
   "metadata": {
    "_cell_guid": "b1076dfc-b9ad-4769-8c92-a6c4dae69d19",
    "_uuid": "8f2839f25d086af736a60e9eeb907d3b93b6e0e5",
    "execution": {
     "iopub.execute_input": "2023-02-05T12:17:27.684037Z",
     "iopub.status.busy": "2023-02-05T12:17:27.683455Z",
     "iopub.status.idle": "2023-02-05T12:17:36.541992Z",
     "shell.execute_reply": "2023-02-05T12:17:36.540959Z"
    },
    "papermill": {
     "duration": 8.87164,
     "end_time": "2023-02-05T12:17:36.544871",
     "exception": false,
     "start_time": "2023-02-05T12:17:27.673231",
     "status": "completed"
    },
    "tags": []
   },
   "outputs": [],
   "source": [
    "# This Python 3 environment comes with many helpful analytics libraries installed\n",
    "# It is defined by the kaggle/python Docker image: https://github.com/kaggle/docker-python\n",
    "# For example, here's several helpful packages to load\n",
    "\n",
    "import torch\n",
    "import sys\n",
    "sys.path.append('../input/timm-pytorch-image-models/pytorch-image-models-master')\n",
    "import timm\n",
    "import numpy as np # linear algebra\n",
    "import pandas as pd # data processing, CSV file I/O (e.g. pd.read_csv)\n",
    "\n",
    "from timm.models.layers.adaptive_avgmax_pool import SelectAdaptivePool2d\n",
    "from torch.nn import Flatten\n",
    "\n",
    "from fastai.basics import *\n",
    "from fastai.callback.all import *\n",
    "from fastai.vision.all import *\n",
    "from fastai.medical.imaging import *\n",
    "\n",
    "#import pydicom\n",
    "#!pip install -qU python-gdcm pydicom pylibjpeg\n",
    "\n",
    "# Input data files are available in the read-only \"../input/\" directory\n",
    "# For example, running this (by clicking run or pressing Shift+Enter) will list all files under the input directory\n",
    "\n",
    "import os\n",
    "# for dirname, _, filenames in os.walk('/kaggle/input'):\n",
    "#     for filename in filenames:\n",
    "#         os.path.join(dirname, filename)\n",
    "\n",
    "# You can write up to 20GB to the current directory (/kaggle/working/) that gets preserved as output when you create a version using \"Save & Run All\" \n",
    "# You can also write temporary files to /kaggle/temp/, but they won't be saved outside of the current session"
   ]
  },
  {
   "cell_type": "code",
   "execution_count": 2,
   "id": "9cf68f91",
   "metadata": {
    "execution": {
     "iopub.execute_input": "2023-02-05T12:17:36.562129Z",
     "iopub.status.busy": "2023-02-05T12:17:36.560205Z",
     "iopub.status.idle": "2023-02-05T12:17:36.566438Z",
     "shell.execute_reply": "2023-02-05T12:17:36.565606Z"
    },
    "papermill": {
     "duration": 0.016142,
     "end_time": "2023-02-05T12:17:36.568462",
     "exception": false,
     "start_time": "2023-02-05T12:17:36.552320",
     "status": "completed"
    },
    "tags": []
   },
   "outputs": [],
   "source": [
    "# import cv2\n",
    "# import numpy as np\n",
    "\n",
    "# img_file = '/kaggle/input/rsna-mammography-images-as-pngs/images_as_pngs_cv2_512/train_images_processed_cv2_512/10006/1459541791.png'\n",
    "# img = cv2.imread(img_file, cv2.IMREAD_COLOR)           # rgb\n",
    "# alpha_img = cv2.imread(img_file, cv2.IMREAD_UNCHANGED) # rgba\n",
    "# gray_img = cv2.imread(img_file, cv2.IMREAD_GRAYSCALE)  # grayscale\n",
    "\n",
    "# print(type(img))\n",
    "# print('RGB shape: ', img.shape)        # Rows, cols, channels\n",
    "# print('ARGB shape:', alpha_img.shape)\n",
    "# print('Gray shape:', gray_img.shape)\n",
    "# print('img.dtype: ', img.dtype)\n",
    "# print('img.size: ', img.size)"
   ]
  },
  {
   "cell_type": "code",
   "execution_count": 3,
   "id": "afd94918",
   "metadata": {
    "execution": {
     "iopub.execute_input": "2023-02-05T12:17:36.584570Z",
     "iopub.status.busy": "2023-02-05T12:17:36.583075Z",
     "iopub.status.idle": "2023-02-05T12:17:36.588587Z",
     "shell.execute_reply": "2023-02-05T12:17:36.587727Z"
    },
    "papermill": {
     "duration": 0.015507,
     "end_time": "2023-02-05T12:17:36.590612",
     "exception": false,
     "start_time": "2023-02-05T12:17:36.575105",
     "status": "completed"
    },
    "tags": []
   },
   "outputs": [],
   "source": [
    "# import cv2\n",
    "# import numpy as np\n",
    "\n",
    "# img_file = '/kaggle/working/png_file_dic/10008_1591370361.png'\n",
    "# img = cv2.imread(img_file, cv2.IMREAD_COLOR)           # rgb\n",
    "# alpha_img = cv2.imread(img_file, cv2.IMREAD_UNCHANGED) # rgba\n",
    "# gray_img = cv2.imread(img_file, cv2.IMREAD_GRAYSCALE)  # grayscale\n",
    "\n",
    "# print(type(img))\n",
    "# print('RGB shape: ', img.shape)        # Rows, cols, channels\n",
    "# print('ARGB shape:', alpha_img.shape)\n",
    "# print('Gray shape:', gray_img.shape)\n",
    "# print('img.dtype: ', img.dtype)\n",
    "# print('img.size: ', img.size)"
   ]
  },
  {
   "cell_type": "code",
   "execution_count": 4,
   "id": "9974f61e",
   "metadata": {
    "execution": {
     "iopub.execute_input": "2023-02-05T12:17:36.606173Z",
     "iopub.status.busy": "2023-02-05T12:17:36.604780Z",
     "iopub.status.idle": "2023-02-05T12:17:36.741669Z",
     "shell.execute_reply": "2023-02-05T12:17:36.740595Z"
    },
    "papermill": {
     "duration": 0.14694,
     "end_time": "2023-02-05T12:17:36.744026",
     "exception": false,
     "start_time": "2023-02-05T12:17:36.597086",
     "status": "completed"
    },
    "tags": []
   },
   "outputs": [
    {
     "data": {
      "text/html": [
       "<div>\n",
       "<style scoped>\n",
       "    .dataframe tbody tr th:only-of-type {\n",
       "        vertical-align: middle;\n",
       "    }\n",
       "\n",
       "    .dataframe tbody tr th {\n",
       "        vertical-align: top;\n",
       "    }\n",
       "\n",
       "    .dataframe thead th {\n",
       "        text-align: right;\n",
       "    }\n",
       "</style>\n",
       "<table border=\"1\" class=\"dataframe\">\n",
       "  <thead>\n",
       "    <tr style=\"text-align: right;\">\n",
       "      <th></th>\n",
       "      <th>site_id</th>\n",
       "      <th>patient_id</th>\n",
       "      <th>image_id</th>\n",
       "      <th>laterality</th>\n",
       "      <th>view</th>\n",
       "      <th>age</th>\n",
       "      <th>cancer</th>\n",
       "      <th>biopsy</th>\n",
       "      <th>invasive</th>\n",
       "      <th>BIRADS</th>\n",
       "      <th>implant</th>\n",
       "      <th>density</th>\n",
       "      <th>machine_id</th>\n",
       "      <th>difficult_negative_case</th>\n",
       "    </tr>\n",
       "  </thead>\n",
       "  <tbody>\n",
       "    <tr>\n",
       "      <th>0</th>\n",
       "      <td>2</td>\n",
       "      <td>10006</td>\n",
       "      <td>462822612</td>\n",
       "      <td>L</td>\n",
       "      <td>CC</td>\n",
       "      <td>61.0</td>\n",
       "      <td>0</td>\n",
       "      <td>0</td>\n",
       "      <td>0</td>\n",
       "      <td>NaN</td>\n",
       "      <td>0</td>\n",
       "      <td>NaN</td>\n",
       "      <td>29</td>\n",
       "      <td>False</td>\n",
       "    </tr>\n",
       "    <tr>\n",
       "      <th>1</th>\n",
       "      <td>2</td>\n",
       "      <td>10006</td>\n",
       "      <td>1459541791</td>\n",
       "      <td>L</td>\n",
       "      <td>MLO</td>\n",
       "      <td>61.0</td>\n",
       "      <td>0</td>\n",
       "      <td>0</td>\n",
       "      <td>0</td>\n",
       "      <td>NaN</td>\n",
       "      <td>0</td>\n",
       "      <td>NaN</td>\n",
       "      <td>29</td>\n",
       "      <td>False</td>\n",
       "    </tr>\n",
       "    <tr>\n",
       "      <th>2</th>\n",
       "      <td>2</td>\n",
       "      <td>10006</td>\n",
       "      <td>1864590858</td>\n",
       "      <td>R</td>\n",
       "      <td>MLO</td>\n",
       "      <td>61.0</td>\n",
       "      <td>0</td>\n",
       "      <td>0</td>\n",
       "      <td>0</td>\n",
       "      <td>NaN</td>\n",
       "      <td>0</td>\n",
       "      <td>NaN</td>\n",
       "      <td>29</td>\n",
       "      <td>False</td>\n",
       "    </tr>\n",
       "    <tr>\n",
       "      <th>3</th>\n",
       "      <td>2</td>\n",
       "      <td>10006</td>\n",
       "      <td>1874946579</td>\n",
       "      <td>R</td>\n",
       "      <td>CC</td>\n",
       "      <td>61.0</td>\n",
       "      <td>0</td>\n",
       "      <td>0</td>\n",
       "      <td>0</td>\n",
       "      <td>NaN</td>\n",
       "      <td>0</td>\n",
       "      <td>NaN</td>\n",
       "      <td>29</td>\n",
       "      <td>False</td>\n",
       "    </tr>\n",
       "    <tr>\n",
       "      <th>4</th>\n",
       "      <td>2</td>\n",
       "      <td>10011</td>\n",
       "      <td>220375232</td>\n",
       "      <td>L</td>\n",
       "      <td>CC</td>\n",
       "      <td>55.0</td>\n",
       "      <td>0</td>\n",
       "      <td>0</td>\n",
       "      <td>0</td>\n",
       "      <td>0.0</td>\n",
       "      <td>0</td>\n",
       "      <td>NaN</td>\n",
       "      <td>21</td>\n",
       "      <td>True</td>\n",
       "    </tr>\n",
       "  </tbody>\n",
       "</table>\n",
       "</div>"
      ],
      "text/plain": [
       "   site_id  patient_id    image_id laterality view   age  cancer  biopsy  \\\n",
       "0        2       10006   462822612          L   CC  61.0       0       0   \n",
       "1        2       10006  1459541791          L  MLO  61.0       0       0   \n",
       "2        2       10006  1864590858          R  MLO  61.0       0       0   \n",
       "3        2       10006  1874946579          R   CC  61.0       0       0   \n",
       "4        2       10011   220375232          L   CC  55.0       0       0   \n",
       "\n",
       "   invasive  BIRADS  implant density  machine_id  difficult_negative_case  \n",
       "0         0     NaN        0     NaN          29                    False  \n",
       "1         0     NaN        0     NaN          29                    False  \n",
       "2         0     NaN        0     NaN          29                    False  \n",
       "3         0     NaN        0     NaN          29                    False  \n",
       "4         0     0.0        0     NaN          21                     True  "
      ]
     },
     "execution_count": 4,
     "metadata": {},
     "output_type": "execute_result"
    }
   ],
   "source": [
    "df = pd.read_csv('/kaggle/input/rsna-breast-cancer-detection/train.csv')\n",
    "df.head()"
   ]
  },
  {
   "cell_type": "code",
   "execution_count": 5,
   "id": "993fe75b",
   "metadata": {
    "execution": {
     "iopub.execute_input": "2023-02-05T12:17:36.761484Z",
     "iopub.status.busy": "2023-02-05T12:17:36.759943Z",
     "iopub.status.idle": "2023-02-05T12:17:36.879234Z",
     "shell.execute_reply": "2023-02-05T12:17:36.877982Z"
    },
    "papermill": {
     "duration": 0.130525,
     "end_time": "2023-02-05T12:17:36.882079",
     "exception": false,
     "start_time": "2023-02-05T12:17:36.751554",
     "status": "completed"
    },
    "tags": []
   },
   "outputs": [
    {
     "data": {
      "text/html": [
       "<div>\n",
       "<style scoped>\n",
       "    .dataframe tbody tr th:only-of-type {\n",
       "        vertical-align: middle;\n",
       "    }\n",
       "\n",
       "    .dataframe tbody tr th {\n",
       "        vertical-align: top;\n",
       "    }\n",
       "\n",
       "    .dataframe thead th {\n",
       "        text-align: right;\n",
       "    }\n",
       "</style>\n",
       "<table border=\"1\" class=\"dataframe\">\n",
       "  <thead>\n",
       "    <tr style=\"text-align: right;\">\n",
       "      <th></th>\n",
       "      <th>site_id</th>\n",
       "      <th>patient_id</th>\n",
       "      <th>image_id</th>\n",
       "      <th>laterality</th>\n",
       "      <th>view</th>\n",
       "      <th>age</th>\n",
       "      <th>cancer</th>\n",
       "      <th>biopsy</th>\n",
       "      <th>invasive</th>\n",
       "      <th>BIRADS</th>\n",
       "      <th>implant</th>\n",
       "      <th>density</th>\n",
       "      <th>machine_id</th>\n",
       "      <th>difficult_negative_case</th>\n",
       "      <th>filepath</th>\n",
       "    </tr>\n",
       "  </thead>\n",
       "  <tbody>\n",
       "    <tr>\n",
       "      <th>0</th>\n",
       "      <td>2</td>\n",
       "      <td>10006</td>\n",
       "      <td>462822612</td>\n",
       "      <td>L</td>\n",
       "      <td>CC</td>\n",
       "      <td>61.0</td>\n",
       "      <td>0</td>\n",
       "      <td>0</td>\n",
       "      <td>0</td>\n",
       "      <td>NaN</td>\n",
       "      <td>0</td>\n",
       "      <td>NaN</td>\n",
       "      <td>29</td>\n",
       "      <td>False</td>\n",
       "      <td>/kaggle/input/rsna-mammography-images-as-pngs/images_as_pngs_cv2_vl_asp_1024/train_images_processed_cv2_vl_asp_1024/10006/462822612.png</td>\n",
       "    </tr>\n",
       "    <tr>\n",
       "      <th>1</th>\n",
       "      <td>2</td>\n",
       "      <td>10006</td>\n",
       "      <td>1459541791</td>\n",
       "      <td>L</td>\n",
       "      <td>MLO</td>\n",
       "      <td>61.0</td>\n",
       "      <td>0</td>\n",
       "      <td>0</td>\n",
       "      <td>0</td>\n",
       "      <td>NaN</td>\n",
       "      <td>0</td>\n",
       "      <td>NaN</td>\n",
       "      <td>29</td>\n",
       "      <td>False</td>\n",
       "      <td>/kaggle/input/rsna-mammography-images-as-pngs/images_as_pngs_cv2_vl_asp_1024/train_images_processed_cv2_vl_asp_1024/10006/1459541791.png</td>\n",
       "    </tr>\n",
       "    <tr>\n",
       "      <th>2</th>\n",
       "      <td>2</td>\n",
       "      <td>10006</td>\n",
       "      <td>1864590858</td>\n",
       "      <td>R</td>\n",
       "      <td>MLO</td>\n",
       "      <td>61.0</td>\n",
       "      <td>0</td>\n",
       "      <td>0</td>\n",
       "      <td>0</td>\n",
       "      <td>NaN</td>\n",
       "      <td>0</td>\n",
       "      <td>NaN</td>\n",
       "      <td>29</td>\n",
       "      <td>False</td>\n",
       "      <td>/kaggle/input/rsna-mammography-images-as-pngs/images_as_pngs_cv2_vl_asp_1024/train_images_processed_cv2_vl_asp_1024/10006/1864590858.png</td>\n",
       "    </tr>\n",
       "    <tr>\n",
       "      <th>3</th>\n",
       "      <td>2</td>\n",
       "      <td>10006</td>\n",
       "      <td>1874946579</td>\n",
       "      <td>R</td>\n",
       "      <td>CC</td>\n",
       "      <td>61.0</td>\n",
       "      <td>0</td>\n",
       "      <td>0</td>\n",
       "      <td>0</td>\n",
       "      <td>NaN</td>\n",
       "      <td>0</td>\n",
       "      <td>NaN</td>\n",
       "      <td>29</td>\n",
       "      <td>False</td>\n",
       "      <td>/kaggle/input/rsna-mammography-images-as-pngs/images_as_pngs_cv2_vl_asp_1024/train_images_processed_cv2_vl_asp_1024/10006/1874946579.png</td>\n",
       "    </tr>\n",
       "    <tr>\n",
       "      <th>4</th>\n",
       "      <td>2</td>\n",
       "      <td>10011</td>\n",
       "      <td>220375232</td>\n",
       "      <td>L</td>\n",
       "      <td>CC</td>\n",
       "      <td>55.0</td>\n",
       "      <td>0</td>\n",
       "      <td>0</td>\n",
       "      <td>0</td>\n",
       "      <td>0.0</td>\n",
       "      <td>0</td>\n",
       "      <td>NaN</td>\n",
       "      <td>21</td>\n",
       "      <td>True</td>\n",
       "      <td>/kaggle/input/rsna-mammography-images-as-pngs/images_as_pngs_cv2_vl_asp_1024/train_images_processed_cv2_vl_asp_1024/10011/220375232.png</td>\n",
       "    </tr>\n",
       "  </tbody>\n",
       "</table>\n",
       "</div>"
      ],
      "text/plain": [
       "   site_id  patient_id    image_id laterality view   age  cancer  biopsy  \\\n",
       "0        2       10006   462822612          L   CC  61.0       0       0   \n",
       "1        2       10006  1459541791          L  MLO  61.0       0       0   \n",
       "2        2       10006  1864590858          R  MLO  61.0       0       0   \n",
       "3        2       10006  1874946579          R   CC  61.0       0       0   \n",
       "4        2       10011   220375232          L   CC  55.0       0       0   \n",
       "\n",
       "   invasive  BIRADS  implant density  machine_id  difficult_negative_case  \\\n",
       "0         0     NaN        0     NaN          29                    False   \n",
       "1         0     NaN        0     NaN          29                    False   \n",
       "2         0     NaN        0     NaN          29                    False   \n",
       "3         0     NaN        0     NaN          29                    False   \n",
       "4         0     0.0        0     NaN          21                     True   \n",
       "\n",
       "                                                                                                                                   filepath  \n",
       "0   /kaggle/input/rsna-mammography-images-as-pngs/images_as_pngs_cv2_vl_asp_1024/train_images_processed_cv2_vl_asp_1024/10006/462822612.png  \n",
       "1  /kaggle/input/rsna-mammography-images-as-pngs/images_as_pngs_cv2_vl_asp_1024/train_images_processed_cv2_vl_asp_1024/10006/1459541791.png  \n",
       "2  /kaggle/input/rsna-mammography-images-as-pngs/images_as_pngs_cv2_vl_asp_1024/train_images_processed_cv2_vl_asp_1024/10006/1864590858.png  \n",
       "3  /kaggle/input/rsna-mammography-images-as-pngs/images_as_pngs_cv2_vl_asp_1024/train_images_processed_cv2_vl_asp_1024/10006/1874946579.png  \n",
       "4   /kaggle/input/rsna-mammography-images-as-pngs/images_as_pngs_cv2_vl_asp_1024/train_images_processed_cv2_vl_asp_1024/10011/220375232.png  "
      ]
     },
     "execution_count": 5,
     "metadata": {},
     "output_type": "execute_result"
    }
   ],
   "source": [
    "df['filepath'] = '/kaggle/input/rsna-mammography-images-as-pngs/images_as_pngs_cv2_vl_asp_1024/train_images_processed_cv2_vl_asp_1024/' + df['patient_id'].astype(str) + '/' + df['image_id'].astype(str) + '.png'\n",
    "df.head()"
   ]
  },
  {
   "cell_type": "code",
   "execution_count": 6,
   "id": "093795dc",
   "metadata": {
    "execution": {
     "iopub.execute_input": "2023-02-05T12:17:36.900183Z",
     "iopub.status.busy": "2023-02-05T12:17:36.899877Z",
     "iopub.status.idle": "2023-02-05T12:17:36.918105Z",
     "shell.execute_reply": "2023-02-05T12:17:36.916991Z"
    },
    "papermill": {
     "duration": 0.028651,
     "end_time": "2023-02-05T12:17:36.920426",
     "exception": false,
     "start_time": "2023-02-05T12:17:36.891775",
     "status": "completed"
    },
    "tags": []
   },
   "outputs": [
    {
     "data": {
      "text/html": [
       "<div>\n",
       "<style scoped>\n",
       "    .dataframe tbody tr th:only-of-type {\n",
       "        vertical-align: middle;\n",
       "    }\n",
       "\n",
       "    .dataframe tbody tr th {\n",
       "        vertical-align: top;\n",
       "    }\n",
       "\n",
       "    .dataframe thead th {\n",
       "        text-align: right;\n",
       "    }\n",
       "</style>\n",
       "<table border=\"1\" class=\"dataframe\">\n",
       "  <thead>\n",
       "    <tr style=\"text-align: right;\">\n",
       "      <th></th>\n",
       "      <th>filepath</th>\n",
       "      <th>cancer</th>\n",
       "    </tr>\n",
       "  </thead>\n",
       "  <tbody>\n",
       "    <tr>\n",
       "      <th>0</th>\n",
       "      <td>/kaggle/input/rsna-mammography-images-as-pngs/images_as_pngs_cv2_vl_asp_1024/train_images_processed_cv2_vl_asp_1024/10006/462822612.png</td>\n",
       "      <td>0</td>\n",
       "    </tr>\n",
       "    <tr>\n",
       "      <th>1</th>\n",
       "      <td>/kaggle/input/rsna-mammography-images-as-pngs/images_as_pngs_cv2_vl_asp_1024/train_images_processed_cv2_vl_asp_1024/10006/1459541791.png</td>\n",
       "      <td>0</td>\n",
       "    </tr>\n",
       "    <tr>\n",
       "      <th>2</th>\n",
       "      <td>/kaggle/input/rsna-mammography-images-as-pngs/images_as_pngs_cv2_vl_asp_1024/train_images_processed_cv2_vl_asp_1024/10006/1864590858.png</td>\n",
       "      <td>0</td>\n",
       "    </tr>\n",
       "    <tr>\n",
       "      <th>3</th>\n",
       "      <td>/kaggle/input/rsna-mammography-images-as-pngs/images_as_pngs_cv2_vl_asp_1024/train_images_processed_cv2_vl_asp_1024/10006/1874946579.png</td>\n",
       "      <td>0</td>\n",
       "    </tr>\n",
       "    <tr>\n",
       "      <th>4</th>\n",
       "      <td>/kaggle/input/rsna-mammography-images-as-pngs/images_as_pngs_cv2_vl_asp_1024/train_images_processed_cv2_vl_asp_1024/10011/220375232.png</td>\n",
       "      <td>0</td>\n",
       "    </tr>\n",
       "  </tbody>\n",
       "</table>\n",
       "</div>"
      ],
      "text/plain": [
       "                                                                                                                                   filepath  \\\n",
       "0   /kaggle/input/rsna-mammography-images-as-pngs/images_as_pngs_cv2_vl_asp_1024/train_images_processed_cv2_vl_asp_1024/10006/462822612.png   \n",
       "1  /kaggle/input/rsna-mammography-images-as-pngs/images_as_pngs_cv2_vl_asp_1024/train_images_processed_cv2_vl_asp_1024/10006/1459541791.png   \n",
       "2  /kaggle/input/rsna-mammography-images-as-pngs/images_as_pngs_cv2_vl_asp_1024/train_images_processed_cv2_vl_asp_1024/10006/1864590858.png   \n",
       "3  /kaggle/input/rsna-mammography-images-as-pngs/images_as_pngs_cv2_vl_asp_1024/train_images_processed_cv2_vl_asp_1024/10006/1874946579.png   \n",
       "4   /kaggle/input/rsna-mammography-images-as-pngs/images_as_pngs_cv2_vl_asp_1024/train_images_processed_cv2_vl_asp_1024/10011/220375232.png   \n",
       "\n",
       "   cancer  \n",
       "0       0  \n",
       "1       0  \n",
       "2       0  \n",
       "3       0  \n",
       "4       0  "
      ]
     },
     "execution_count": 6,
     "metadata": {},
     "output_type": "execute_result"
    }
   ],
   "source": [
    "df = df[['filepath', 'cancer']]\n",
    "df.head()"
   ]
  },
  {
   "cell_type": "code",
   "execution_count": 7,
   "id": "7dc07ed0",
   "metadata": {
    "execution": {
     "iopub.execute_input": "2023-02-05T12:17:36.936467Z",
     "iopub.status.busy": "2023-02-05T12:17:36.936196Z",
     "iopub.status.idle": "2023-02-05T12:17:36.940439Z",
     "shell.execute_reply": "2023-02-05T12:17:36.939508Z"
    },
    "papermill": {
     "duration": 0.014583,
     "end_time": "2023-02-05T12:17:36.942545",
     "exception": false,
     "start_time": "2023-02-05T12:17:36.927962",
     "status": "completed"
    },
    "tags": []
   },
   "outputs": [],
   "source": [
    "#learn_inf = load_learner('/kaggle/input/us512-enet-ft/export.pkl')"
   ]
  },
  {
   "cell_type": "code",
   "execution_count": 8,
   "id": "2e87a7c6",
   "metadata": {
    "execution": {
     "iopub.execute_input": "2023-02-05T12:17:36.959399Z",
     "iopub.status.busy": "2023-02-05T12:17:36.957956Z",
     "iopub.status.idle": "2023-02-05T12:17:43.827509Z",
     "shell.execute_reply": "2023-02-05T12:17:43.826439Z"
    },
    "papermill": {
     "duration": 6.880368,
     "end_time": "2023-02-05T12:17:43.830236",
     "exception": false,
     "start_time": "2023-02-05T12:17:36.949868",
     "status": "completed"
    },
    "tags": []
   },
   "outputs": [],
   "source": [
    "db = DataBlock(blocks=(ImageBlock(), CategoryBlock),\n",
    "                   get_x=lambda x:x[0],\n",
    "                   get_y=lambda x:x[1],\n",
    "                   item_tfms=Resize(1024, ResizeMethod.Pad, pad_mode='zeros'),\n",
    "                   splitter  = RandomSplitter(seed=1))\n",
    "\n",
    "dls = db.dataloaders(df.values, num_workers=0, bs=4)"
   ]
  },
  {
   "cell_type": "code",
   "execution_count": 9,
   "id": "bcb8eb03",
   "metadata": {
    "execution": {
     "iopub.execute_input": "2023-02-05T12:17:43.846850Z",
     "iopub.status.busy": "2023-02-05T12:17:43.846530Z",
     "iopub.status.idle": "2023-02-05T12:17:45.090519Z",
     "shell.execute_reply": "2023-02-05T12:17:45.089618Z"
    },
    "papermill": {
     "duration": 1.254724,
     "end_time": "2023-02-05T12:17:45.092697",
     "exception": false,
     "start_time": "2023-02-05T12:17:43.837973",
     "status": "completed"
    },
    "tags": []
   },
   "outputs": [
    {
     "data": {
      "image/png": "[encoded data removed]",
      "text/plain": [
       "<Figure size 432x432 with 4 Axes>"
      ]
     },
     "metadata": {
      "needs_background": "light"
     },
     "output_type": "display_data"
    }
   ],
   "source": [
    "#dls = db.dataloaders(df.values)\n",
    "dls.show_batch(max_n=16)"
   ]
  },
  {
   "cell_type": "code",
   "execution_count": 10,
   "id": "e4fd42cd",
   "metadata": {
    "execution": {
     "iopub.execute_input": "2023-02-05T12:17:45.109967Z",
     "iopub.status.busy": "2023-02-05T12:17:45.109641Z",
     "iopub.status.idle": "2023-02-05T12:17:45.116035Z",
     "shell.execute_reply": "2023-02-05T12:17:45.114970Z"
    },
    "papermill": {
     "duration": 0.017685,
     "end_time": "2023-02-05T12:17:45.118553",
     "exception": false,
     "start_time": "2023-02-05T12:17:45.100868",
     "status": "completed"
    },
    "tags": []
   },
   "outputs": [],
   "source": [
    "def get_learner(arch=resnet18):\n",
    "    learner = vision_learner(\n",
    "        dls,\n",
    "        arch,\n",
    "        custom_head=nn.Sequential(SelectAdaptivePool2d(pool_type='avg', flatten=Flatten()), nn.Linear(1280, 2)),\n",
    "        metrics=[\n",
    "            error_rate,\n",
    "            accuracy,\n",
    "            F1Score()\n",
    "        ],\n",
    "        #loss_func=F.cross_entropy,\n",
    "        #cbs=ActivationStats(with_hist=True),\n",
    "        #loss_func=CrossEntropyLossFlat(weight=torch.tensor([1,50]).float()),\n",
    "        pretrained=False,\n",
    "        #normalize=False\n",
    "    ).to_fp16()\n",
    "    return learner"
   ]
  },
  {
   "cell_type": "code",
   "execution_count": 11,
   "id": "62c72b4f",
   "metadata": {
    "execution": {
     "iopub.execute_input": "2023-02-05T12:17:45.136609Z",
     "iopub.status.busy": "2023-02-05T12:17:45.136298Z",
     "iopub.status.idle": "2023-02-05T12:17:45.533672Z",
     "shell.execute_reply": "2023-02-05T12:17:45.532610Z"
    },
    "papermill": {
     "duration": 0.409265,
     "end_time": "2023-02-05T12:17:45.536351",
     "exception": false,
     "start_time": "2023-02-05T12:17:45.127086",
     "status": "completed"
    },
    "tags": []
   },
   "outputs": [],
   "source": [
    "learn = get_learner('tf_efficientnetv2_s')"
   ]
  },
  {
   "cell_type": "code",
   "execution_count": 12,
   "id": "3723f23c",
   "metadata": {
    "execution": {
     "iopub.execute_input": "2023-02-05T12:17:45.556051Z",
     "iopub.status.busy": "2023-02-05T12:17:45.554472Z",
     "iopub.status.idle": "2023-02-05T12:17:45.559907Z",
     "shell.execute_reply": "2023-02-05T12:17:45.559053Z"
    },
    "papermill": {
     "duration": 0.016483,
     "end_time": "2023-02-05T12:17:45.561819",
     "exception": false,
     "start_time": "2023-02-05T12:17:45.545336",
     "status": "completed"
    },
    "tags": []
   },
   "outputs": [],
   "source": [
    "#learn = get_learner('tf_efficientnetv2_s')"
   ]
  },
  {
   "cell_type": "code",
   "execution_count": 13,
   "id": "6562892e",
   "metadata": {
    "execution": {
     "iopub.execute_input": "2023-02-05T12:17:45.579173Z",
     "iopub.status.busy": "2023-02-05T12:17:45.578533Z",
     "iopub.status.idle": "2023-02-05T12:17:47.150595Z",
     "shell.execute_reply": "2023-02-05T12:17:47.148751Z"
    },
    "papermill": {
     "duration": 1.583787,
     "end_time": "2023-02-05T12:17:47.153433",
     "exception": false,
     "start_time": "2023-02-05T12:17:45.569646",
     "status": "completed"
    },
    "tags": []
   },
   "outputs": [
    {
     "name": "stderr",
     "output_type": "stream",
     "text": [
      "/opt/conda/lib/python3.7/site-packages/fastai/learner.py:58: UserWarning: Saved filed doesn't contain an optimizer state.\n",
      "  elif with_opt: warn(\"Saved filed doesn't contain an optimizer state.\")\n"
     ]
    },
    {
     "data": {
      "text/plain": [
       "<fastai.learner.Learner at 0x7f0393bb6350>"
      ]
     },
     "execution_count": 13,
     "metadata": {},
     "output_type": "execute_result"
    }
   ],
   "source": [
    "learn.load('/kaggle/input/us-1024-ch-enetv2s-ft/us_1024_ch_enetv2s_ft')"
   ]
  },
  {
   "cell_type": "markdown",
   "id": "6abad5c5",
   "metadata": {
    "papermill": {
     "duration": 0.008988,
     "end_time": "2023-02-05T12:17:47.172057",
     "exception": false,
     "start_time": "2023-02-05T12:17:47.163069",
     "status": "completed"
    },
    "tags": []
   },
   "source": [
    "# Submission|"
   ]
  },
  {
   "cell_type": "code",
   "execution_count": 14,
   "id": "83621ddd",
   "metadata": {
    "execution": {
     "iopub.execute_input": "2023-02-05T12:17:47.190660Z",
     "iopub.status.busy": "2023-02-05T12:17:47.190363Z",
     "iopub.status.idle": "2023-02-05T12:17:57.610992Z",
     "shell.execute_reply": "2023-02-05T12:17:57.609578Z"
    },
    "papermill": {
     "duration": 10.432502,
     "end_time": "2023-02-05T12:17:57.613366",
     "exception": false,
     "start_time": "2023-02-05T12:17:47.180864",
     "status": "completed"
    },
    "tags": []
   },
   "outputs": [
    {
     "data": {
      "text/html": [
       "\n",
       "<style>\n",
       "    /* Turns off some styling */\n",
       "    progress {\n",
       "        /* gets rid of default border in Firefox and Opera. */\n",
       "        border: none;\n",
       "        /* Needs to be in here for Safari polyfill so background images work as expected. */\n",
       "        background-size: auto;\n",
       "    }\n",
       "    progress:not([value]), progress:not([value])::-webkit-progress-bar {\n",
       "        background: repeating-linear-gradient(45deg, #7e7e7e, #7e7e7e 10px, #5c5c5c 10px, #5c5c5c 20px);\n",
       "    }\n",
       "    .progress-bar-interrupted, .progress-bar-interrupted::-webkit-progress-bar {\n",
       "        background: #F44336;\n",
       "    }\n",
       "</style>\n"
      ],
      "text/plain": [
       "<IPython.core.display.HTML object>"
      ]
     },
     "metadata": {},
     "output_type": "display_data"
    },
    {
     "data": {
      "text/html": [],
      "text/plain": [
       "<IPython.core.display.HTML object>"
      ]
     },
     "metadata": {},
     "output_type": "display_data"
    },
    {
     "data": {
      "text/plain": [
       "'0'"
      ]
     },
     "execution_count": 14,
     "metadata": {},
     "output_type": "execute_result"
    }
   ],
   "source": [
    "temp = learn.predict('/kaggle/input/rsna-mammography-images-as-pngs/images_as_pngs_cv2_dicomsdl_512/train_images_processed_cv2_dicomsdl_512/10006/1459541791.png')\n",
    "temp[0]"
   ]
  },
  {
   "cell_type": "code",
   "execution_count": 15,
   "id": "02bd27e5",
   "metadata": {
    "execution": {
     "iopub.execute_input": "2023-02-05T12:17:57.632832Z",
     "iopub.status.busy": "2023-02-05T12:17:57.631979Z",
     "iopub.status.idle": "2023-02-05T12:17:57.654314Z",
     "shell.execute_reply": "2023-02-05T12:17:57.653193Z"
    },
    "papermill": {
     "duration": 0.034553,
     "end_time": "2023-02-05T12:17:57.656714",
     "exception": false,
     "start_time": "2023-02-05T12:17:57.622161",
     "status": "completed"
    },
    "tags": []
   },
   "outputs": [
    {
     "data": {
      "text/html": [
       "<div>\n",
       "<style scoped>\n",
       "    .dataframe tbody tr th:only-of-type {\n",
       "        vertical-align: middle;\n",
       "    }\n",
       "\n",
       "    .dataframe tbody tr th {\n",
       "        vertical-align: top;\n",
       "    }\n",
       "\n",
       "    .dataframe thead th {\n",
       "        text-align: right;\n",
       "    }\n",
       "</style>\n",
       "<table border=\"1\" class=\"dataframe\">\n",
       "  <thead>\n",
       "    <tr style=\"text-align: right;\">\n",
       "      <th></th>\n",
       "      <th>site_id</th>\n",
       "      <th>patient_id</th>\n",
       "      <th>image_id</th>\n",
       "      <th>laterality</th>\n",
       "      <th>view</th>\n",
       "      <th>age</th>\n",
       "      <th>implant</th>\n",
       "      <th>machine_id</th>\n",
       "      <th>prediction_id</th>\n",
       "    </tr>\n",
       "  </thead>\n",
       "  <tbody>\n",
       "    <tr>\n",
       "      <th>0</th>\n",
       "      <td>2</td>\n",
       "      <td>10008</td>\n",
       "      <td>736471439</td>\n",
       "      <td>L</td>\n",
       "      <td>MLO</td>\n",
       "      <td>81</td>\n",
       "      <td>0</td>\n",
       "      <td>21</td>\n",
       "      <td>10008_L</td>\n",
       "    </tr>\n",
       "    <tr>\n",
       "      <th>1</th>\n",
       "      <td>2</td>\n",
       "      <td>10008</td>\n",
       "      <td>1591370361</td>\n",
       "      <td>L</td>\n",
       "      <td>CC</td>\n",
       "      <td>81</td>\n",
       "      <td>0</td>\n",
       "      <td>21</td>\n",
       "      <td>10008_L</td>\n",
       "    </tr>\n",
       "    <tr>\n",
       "      <th>2</th>\n",
       "      <td>2</td>\n",
       "      <td>10008</td>\n",
       "      <td>68070693</td>\n",
       "      <td>R</td>\n",
       "      <td>MLO</td>\n",
       "      <td>81</td>\n",
       "      <td>0</td>\n",
       "      <td>21</td>\n",
       "      <td>10008_R</td>\n",
       "    </tr>\n",
       "    <tr>\n",
       "      <th>3</th>\n",
       "      <td>2</td>\n",
       "      <td>10008</td>\n",
       "      <td>361203119</td>\n",
       "      <td>R</td>\n",
       "      <td>CC</td>\n",
       "      <td>81</td>\n",
       "      <td>0</td>\n",
       "      <td>21</td>\n",
       "      <td>10008_R</td>\n",
       "    </tr>\n",
       "  </tbody>\n",
       "</table>\n",
       "</div>"
      ],
      "text/plain": [
       "   site_id  patient_id    image_id laterality view  age  implant  machine_id  \\\n",
       "0        2       10008   736471439          L  MLO   81        0          21   \n",
       "1        2       10008  1591370361          L   CC   81        0          21   \n",
       "2        2       10008    68070693          R  MLO   81        0          21   \n",
       "3        2       10008   361203119          R   CC   81        0          21   \n",
       "\n",
       "  prediction_id  \n",
       "0       10008_L  \n",
       "1       10008_L  \n",
       "2       10008_R  \n",
       "3       10008_R  "
      ]
     },
     "execution_count": 15,
     "metadata": {},
     "output_type": "execute_result"
    }
   ],
   "source": [
    "test_csv = pd.read_csv('/kaggle/input/rsna-breast-cancer-detection/test.csv')\n",
    "test_csv.head()"
   ]
  },
  {
   "cell_type": "code",
   "execution_count": 16,
   "id": "625ece8c",
   "metadata": {
    "execution": {
     "iopub.execute_input": "2023-02-05T12:17:57.676802Z",
     "iopub.status.busy": "2023-02-05T12:17:57.676043Z",
     "iopub.status.idle": "2023-02-05T12:17:57.680702Z",
     "shell.execute_reply": "2023-02-05T12:17:57.679734Z"
    },
    "papermill": {
     "duration": 0.016978,
     "end_time": "2023-02-05T12:17:57.682880",
     "exception": false,
     "start_time": "2023-02-05T12:17:57.665902",
     "status": "completed"
    },
    "tags": []
   },
   "outputs": [],
   "source": [
    "image_dir_dicomsdl = '/kaggle/working/png_file_dic/'\n",
    "\n",
    "os.makedirs(image_dir_dicomsdl, exist_ok=True)\n",
    "\n",
    "#IMAGES_TO_PROCESS = 500"
   ]
  },
  {
   "cell_type": "code",
   "execution_count": 17,
   "id": "6636c0b9",
   "metadata": {
    "execution": {
     "iopub.execute_input": "2023-02-05T12:17:57.702834Z",
     "iopub.status.busy": "2023-02-05T12:17:57.701996Z",
     "iopub.status.idle": "2023-02-05T12:17:57.716887Z",
     "shell.execute_reply": "2023-02-05T12:17:57.715938Z"
    },
    "papermill": {
     "duration": 0.026859,
     "end_time": "2023-02-05T12:17:57.718963",
     "exception": false,
     "start_time": "2023-02-05T12:17:57.692104",
     "status": "completed"
    },
    "tags": []
   },
   "outputs": [
    {
     "data": {
      "text/plain": [
       "4"
      ]
     },
     "execution_count": 17,
     "metadata": {},
     "output_type": "execute_result"
    }
   ],
   "source": [
    "test_images = glob.glob(\"/kaggle/input/rsna-breast-cancer-detection/test_images/*/*.dcm\")\n",
    "len(test_images)"
   ]
  },
  {
   "cell_type": "code",
   "execution_count": 18,
   "id": "808392aa",
   "metadata": {
    "execution": {
     "iopub.execute_input": "2023-02-05T12:17:57.738590Z",
     "iopub.status.busy": "2023-02-05T12:17:57.737740Z",
     "iopub.status.idle": "2023-02-05T12:17:57.744070Z",
     "shell.execute_reply": "2023-02-05T12:17:57.743104Z"
    },
    "papermill": {
     "duration": 0.017983,
     "end_time": "2023-02-05T12:17:57.746127",
     "exception": false,
     "start_time": "2023-02-05T12:17:57.728144",
     "status": "completed"
    },
    "tags": []
   },
   "outputs": [
    {
     "data": {
      "text/plain": [
       "'/kaggle/input/rsna-breast-cancer-detection/test_images/10008/736471439.dcm'"
      ]
     },
     "execution_count": 18,
     "metadata": {},
     "output_type": "execute_result"
    }
   ],
   "source": [
    "test_images[0]"
   ]
  },
  {
   "cell_type": "code",
   "execution_count": 19,
   "id": "9ad94ca9",
   "metadata": {
    "execution": {
     "iopub.execute_input": "2023-02-05T12:17:57.766341Z",
     "iopub.status.busy": "2023-02-05T12:17:57.765468Z",
     "iopub.status.idle": "2023-02-05T12:17:57.773576Z",
     "shell.execute_reply": "2023-02-05T12:17:57.772700Z"
    },
    "papermill": {
     "duration": 0.02006,
     "end_time": "2023-02-05T12:17:57.775574",
     "exception": false,
     "start_time": "2023-02-05T12:17:57.755514",
     "status": "completed"
    },
    "tags": []
   },
   "outputs": [],
   "source": [
    "def process(f, size=512, save_folder=None, extension=\"png\"):\n",
    "    \n",
    "    patient = f.split('/')[-2]\n",
    "    image_name = f.split('/')[-1][:-4]\n",
    "    \n",
    "    dicom = dicoml.open(f)\n",
    "    img = dicom.pixelData()\n",
    "\n",
    "    img = (img - img.min()) / (img.max() - img.min())\n",
    "\n",
    "    if dicom.getPixelDataInfo()['PhotometricInterpretation'] == \"MONOCHROME1\":\n",
    "        img = 1 - img\n",
    "\n",
    "    image = (img * 255).astype(np.uint8)\n",
    "    \n",
    "    img = cv2.resize(image, (size, size))\n",
    "\n",
    "    file_name = f'{save_folder}' + f\"{patient}_{image_name}.{extension}\"\n",
    "\n",
    "    cv2.imwrite(file_name, img)"
   ]
  },
  {
   "cell_type": "code",
   "execution_count": 20,
   "id": "097bd14c",
   "metadata": {
    "execution": {
     "iopub.execute_input": "2023-02-05T12:17:57.796058Z",
     "iopub.status.busy": "2023-02-05T12:17:57.795155Z",
     "iopub.status.idle": "2023-02-05T12:18:30.437179Z",
     "shell.execute_reply": "2023-02-05T12:18:30.435726Z"
    },
    "papermill": {
     "duration": 32.655064,
     "end_time": "2023-02-05T12:18:30.440009",
     "exception": false,
     "start_time": "2023-02-05T12:17:57.784945",
     "status": "completed"
    },
    "tags": []
   },
   "outputs": [
    {
     "name": "stdout",
     "output_type": "stream",
     "text": [
      "Processing /kaggle/input/dicomsdl-offline-installer/dicomsdl-0.109.1-cp37-cp37m-manylinux_2_12_x86_64.manylinux2010_x86_64.whl\r\n",
      "Installing collected packages: dicomsdl\r\n",
      "Successfully installed dicomsdl-0.109.1\r\n",
      "\u001b[33mWARNING: Running pip as the 'root' user can result in broken permissions and conflicting behaviour with the system package manager. It is recommended to use a virtual environment instead: https://pip.pypa.io/warnings/venv\u001b[0m\u001b[33m\r\n",
      "\u001b[0m\u001b[33mWARNING: There was an error checking the latest version of pip.\u001b[0m\u001b[33m\r\n",
      "\u001b[0m"
     ]
    }
   ],
   "source": [
    "!pip install /kaggle/input/dicomsdl-offline-installer/dicomsdl-0.109.1-cp37-cp37m-manylinux_2_12_x86_64.manylinux2010_x86_64.whl"
   ]
  },
  {
   "cell_type": "code",
   "execution_count": 21,
   "id": "56d11e71",
   "metadata": {
    "execution": {
     "iopub.execute_input": "2023-02-05T12:18:30.459945Z",
     "iopub.status.busy": "2023-02-05T12:18:30.459470Z",
     "iopub.status.idle": "2023-02-05T12:18:30.474913Z",
     "shell.execute_reply": "2023-02-05T12:18:30.474029Z"
    },
    "papermill": {
     "duration": 0.027534,
     "end_time": "2023-02-05T12:18:30.476858",
     "exception": false,
     "start_time": "2023-02-05T12:18:30.449324",
     "status": "completed"
    },
    "tags": []
   },
   "outputs": [],
   "source": [
    "import dicomsdl as dicoml\n",
    "import cv2\n",
    "import pydicom\n",
    "\n",
    "from joblib import Parallel, delayed\n",
    "import glob\n",
    "import time\n",
    "import numpy as np\n",
    "import os\n",
    "from matplotlib import pyplot as plt\n",
    "from tqdm import tqdm"
   ]
  },
  {
   "cell_type": "code",
   "execution_count": 22,
   "id": "e8c6aaec",
   "metadata": {
    "execution": {
     "iopub.execute_input": "2023-02-05T12:18:30.496092Z",
     "iopub.status.busy": "2023-02-05T12:18:30.495515Z",
     "iopub.status.idle": "2023-02-05T12:18:30.506409Z",
     "shell.execute_reply": "2023-02-05T12:18:30.504877Z"
    },
    "papermill": {
     "duration": 0.023152,
     "end_time": "2023-02-05T12:18:30.509035",
     "exception": false,
     "start_time": "2023-02-05T12:18:30.485883",
     "status": "completed"
    },
    "tags": []
   },
   "outputs": [
    {
     "name": "stdout",
     "output_type": "stream",
     "text": [
      "CPU times: user 57 µs, sys: 0 ns, total: 57 µs\n",
      "Wall time: 61.8 µs\n"
     ]
    }
   ],
   "source": [
    "%%time\n",
    "\n",
    "import pydicom\n",
    "import numpy as np\n",
    "import cv2\n",
    "import os\n",
    "from joblib import Parallel, delayed\n",
    "from tqdm.notebook import tqdm\n",
    "from pathlib import Path\n",
    "from pydicom.pixel_data_handlers.util import apply_voi_lut\n",
    "\n",
    "RESIZE_TO = 1024\n",
    "\n",
    "#!rm -rf test_images_processed_cv2_vl_asp_{RESIZE_TO}\n",
    "#!mkdir test_images_processed_cv2_vl_asp_{RESIZE_TO}\n",
    "\n",
    "\n",
    "def image_resize(image, width = None, height = None, inter = cv2.INTER_LINEAR):\n",
    "\n",
    "    dim = None\n",
    "    (h, w) = image.shape[:2]\n",
    "\n",
    "    if width is None and height is None:\n",
    "        return image\n",
    "\n",
    "    if width is None:\n",
    "        r = height / float(h)\n",
    "        dim = (int(w * r), height)\n",
    "    else:\n",
    "        r = width / float(w)\n",
    "        dim = (width, int(h * r))\n",
    "    resized = cv2.resize(image, dim, interpolation = inter)\n",
    "\n",
    "    return resized\n",
    "\n",
    "\n",
    "# https://www.kaggle.com/code/tanlikesmath/brain-tumor-radiogenomic-classification-eda/notebook\n",
    "def dicom_file_to_ary(path):\n",
    "    dicom = pydicom.dcmread(path)\n",
    "    data = dicom.pixel_array\n",
    "    data = apply_voi_lut(dicom.pixel_array, dicom)\n",
    "       \n",
    "    data = (data - data.min()) / (data.max() - data.min())\n",
    "    \n",
    "    if dicom.PhotometricInterpretation == \"MONOCHROME1\":\n",
    "        data = 1 - data\n",
    "    \n",
    "    h, w = data.shape\n",
    "    if w > h:\n",
    "         data = image_resize(data, width = RESIZE_TO)\n",
    "    else:\n",
    "         data = image_resize(data, height = RESIZE_TO)\n",
    "    \n",
    "    data = (data * 255).astype(np.uint8)\n",
    "    return data\n",
    "\n",
    "# directories = list(Path('/kaggle/working/test_images_processed_cv2_vl_asp_1024').iterdir())\n",
    "\n",
    "# def process_directory(directory_path):\n",
    "#     parent_directory = str(directory_path).split('/')[-1]\n",
    "#     !mkdir -p train_images_processed_cv2_vl_asp_{RESIZE_TO}/{parent_directory}\n",
    "#     for image_path in directory_path.iterdir():\n",
    "#         processed_ary = dicom_file_to_ary(image_path)\n",
    "        \n",
    "#         cv2.imwrite(\n",
    "#             f'train_images_processed_cv2_vl_asp_{RESIZE_TO}/{parent_directory}/{image_path.stem}.png',\n",
    "#             processed_ary\n",
    "#         )\n",
    "        \n",
    "# import multiprocessing as mp\n",
    "\n",
    "# with mp.Pool(64) as p:\n",
    "#     p.map(process_directory, directories)"
   ]
  },
  {
   "cell_type": "code",
   "execution_count": 23,
   "id": "283df33b",
   "metadata": {
    "execution": {
     "iopub.execute_input": "2023-02-05T12:18:30.530054Z",
     "iopub.status.busy": "2023-02-05T12:18:30.529293Z",
     "iopub.status.idle": "2023-02-05T12:18:30.535109Z",
     "shell.execute_reply": "2023-02-05T12:18:30.534214Z"
    },
    "papermill": {
     "duration": 0.017823,
     "end_time": "2023-02-05T12:18:30.536981",
     "exception": false,
     "start_time": "2023-02-05T12:18:30.519158",
     "status": "completed"
    },
    "tags": []
   },
   "outputs": [],
   "source": [
    "def process_asp(image_path, save_folder=None):\n",
    "    processed_ary = dicom_file_to_ary(image_path)\n",
    "    f=image_path\n",
    "    patient = f.split('/')[-2]\n",
    "    image_name = f.split('/')[-1][:-4]\n",
    "\n",
    "#     cv2.imwrite(\n",
    "#         f'train_images_processed_cv2_vl_asp_{RESIZE_TO}/{parent_directory}/{image_path.stem}.png',\n",
    "#         processed_ary\n",
    "#     )\n",
    "    \n",
    "    file_name = f'{save_folder}' + f\"{patient}_{image_name}.png\"\n",
    "\n",
    "    cv2.imwrite(file_name, processed_ary)"
   ]
  },
  {
   "cell_type": "code",
   "execution_count": 24,
   "id": "5ac7e81a",
   "metadata": {
    "execution": {
     "iopub.execute_input": "2023-02-05T12:18:30.556107Z",
     "iopub.status.busy": "2023-02-05T12:18:30.555556Z",
     "iopub.status.idle": "2023-02-05T12:18:30.561645Z",
     "shell.execute_reply": "2023-02-05T12:18:30.560737Z"
    },
    "papermill": {
     "duration": 0.018002,
     "end_time": "2023-02-05T12:18:30.563902",
     "exception": false,
     "start_time": "2023-02-05T12:18:30.545900",
     "status": "completed"
    },
    "tags": []
   },
   "outputs": [
    {
     "data": {
      "text/plain": [
       "['/kaggle/input/rsna-breast-cancer-detection/test_images/10008/736471439.dcm',\n",
       " '/kaggle/input/rsna-breast-cancer-detection/test_images/10008/361203119.dcm',\n",
       " '/kaggle/input/rsna-breast-cancer-detection/test_images/10008/68070693.dcm',\n",
       " '/kaggle/input/rsna-breast-cancer-detection/test_images/10008/1591370361.dcm']"
      ]
     },
     "execution_count": 24,
     "metadata": {},
     "output_type": "execute_result"
    }
   ],
   "source": [
    "test_images"
   ]
  },
  {
   "cell_type": "code",
   "execution_count": 25,
   "id": "df091307",
   "metadata": {
    "execution": {
     "iopub.execute_input": "2023-02-05T12:18:30.583759Z",
     "iopub.status.busy": "2023-02-05T12:18:30.582915Z",
     "iopub.status.idle": "2023-02-05T12:18:34.623062Z",
     "shell.execute_reply": "2023-02-05T12:18:34.621563Z"
    },
    "papermill": {
     "duration": 4.053705,
     "end_time": "2023-02-05T12:18:34.626479",
     "exception": false,
     "start_time": "2023-02-05T12:18:30.572774",
     "status": "completed"
    },
    "tags": []
   },
   "outputs": [
    {
     "name": "stdout",
     "output_type": "stream",
     "text": [
      "CPU times: user 70.8 ms, sys: 189 ms, total: 260 ms\n",
      "Wall time: 4.03 s\n"
     ]
    },
    {
     "data": {
      "text/plain": [
       "[None, None, None, None]"
      ]
     },
     "execution_count": 25,
     "metadata": {},
     "output_type": "execute_result"
    }
   ],
   "source": [
    "%%time\n",
    "Parallel(n_jobs=4)(\n",
    "    delayed(process_asp)(f, save_folder = image_dir_dicomsdl)\n",
    "    for f in test_images\n",
    ")"
   ]
  },
  {
   "cell_type": "code",
   "execution_count": 26,
   "id": "70b347f4",
   "metadata": {
    "execution": {
     "iopub.execute_input": "2023-02-05T12:18:34.650414Z",
     "iopub.status.busy": "2023-02-05T12:18:34.650036Z",
     "iopub.status.idle": "2023-02-05T12:18:34.654859Z",
     "shell.execute_reply": "2023-02-05T12:18:34.653820Z"
    },
    "papermill": {
     "duration": 0.018061,
     "end_time": "2023-02-05T12:18:34.656887",
     "exception": false,
     "start_time": "2023-02-05T12:18:34.638826",
     "status": "completed"
    },
    "tags": []
   },
   "outputs": [],
   "source": [
    "# Parallel(n_jobs=4)(\n",
    "#     delayed(process)(f, size = 512, save_folder = image_dir_dicomsdl)\n",
    "#     for f in test_images\n",
    "# )"
   ]
  },
  {
   "cell_type": "code",
   "execution_count": 27,
   "id": "248611a6",
   "metadata": {
    "execution": {
     "iopub.execute_input": "2023-02-05T12:18:34.678075Z",
     "iopub.status.busy": "2023-02-05T12:18:34.677236Z",
     "iopub.status.idle": "2023-02-05T12:18:35.199590Z",
     "shell.execute_reply": "2023-02-05T12:18:35.198525Z"
    },
    "papermill": {
     "duration": 0.535005,
     "end_time": "2023-02-05T12:18:35.201687",
     "exception": false,
     "start_time": "2023-02-05T12:18:34.666682",
     "status": "completed"
    },
    "tags": []
   },
   "outputs": [
    {
     "data": {
      "text/html": [
       "\n",
       "<style>\n",
       "    /* Turns off some styling */\n",
       "    progress {\n",
       "        /* gets rid of default border in Firefox and Opera. */\n",
       "        border: none;\n",
       "        /* Needs to be in here for Safari polyfill so background images work as expected. */\n",
       "        background-size: auto;\n",
       "    }\n",
       "    progress:not([value]), progress:not([value])::-webkit-progress-bar {\n",
       "        background: repeating-linear-gradient(45deg, #7e7e7e, #7e7e7e 10px, #5c5c5c 10px, #5c5c5c 20px);\n",
       "    }\n",
       "    .progress-bar-interrupted, .progress-bar-interrupted::-webkit-progress-bar {\n",
       "        background: #F44336;\n",
       "    }\n",
       "</style>\n"
      ],
      "text/plain": [
       "<IPython.core.display.HTML object>"
      ]
     },
     "metadata": {},
     "output_type": "display_data"
    },
    {
     "data": {
      "text/html": [],
      "text/plain": [
       "<IPython.core.display.HTML object>"
      ]
     },
     "metadata": {},
     "output_type": "display_data"
    },
    {
     "data": {
      "text/html": [
       "\n",
       "<style>\n",
       "    /* Turns off some styling */\n",
       "    progress {\n",
       "        /* gets rid of default border in Firefox and Opera. */\n",
       "        border: none;\n",
       "        /* Needs to be in here for Safari polyfill so background images work as expected. */\n",
       "        background-size: auto;\n",
       "    }\n",
       "    progress:not([value]), progress:not([value])::-webkit-progress-bar {\n",
       "        background: repeating-linear-gradient(45deg, #7e7e7e, #7e7e7e 10px, #5c5c5c 10px, #5c5c5c 20px);\n",
       "    }\n",
       "    .progress-bar-interrupted, .progress-bar-interrupted::-webkit-progress-bar {\n",
       "        background: #F44336;\n",
       "    }\n",
       "</style>\n"
      ],
      "text/plain": [
       "<IPython.core.display.HTML object>"
      ]
     },
     "metadata": {},
     "output_type": "display_data"
    },
    {
     "data": {
      "text/html": [],
      "text/plain": [
       "<IPython.core.display.HTML object>"
      ]
     },
     "metadata": {},
     "output_type": "display_data"
    },
    {
     "data": {
      "text/html": [
       "\n",
       "<style>\n",
       "    /* Turns off some styling */\n",
       "    progress {\n",
       "        /* gets rid of default border in Firefox and Opera. */\n",
       "        border: none;\n",
       "        /* Needs to be in here for Safari polyfill so background images work as expected. */\n",
       "        background-size: auto;\n",
       "    }\n",
       "    progress:not([value]), progress:not([value])::-webkit-progress-bar {\n",
       "        background: repeating-linear-gradient(45deg, #7e7e7e, #7e7e7e 10px, #5c5c5c 10px, #5c5c5c 20px);\n",
       "    }\n",
       "    .progress-bar-interrupted, .progress-bar-interrupted::-webkit-progress-bar {\n",
       "        background: #F44336;\n",
       "    }\n",
       "</style>\n"
      ],
      "text/plain": [
       "<IPython.core.display.HTML object>"
      ]
     },
     "metadata": {},
     "output_type": "display_data"
    },
    {
     "data": {
      "text/html": [],
      "text/plain": [
       "<IPython.core.display.HTML object>"
      ]
     },
     "metadata": {},
     "output_type": "display_data"
    },
    {
     "data": {
      "text/html": [
       "\n",
       "<style>\n",
       "    /* Turns off some styling */\n",
       "    progress {\n",
       "        /* gets rid of default border in Firefox and Opera. */\n",
       "        border: none;\n",
       "        /* Needs to be in here for Safari polyfill so background images work as expected. */\n",
       "        background-size: auto;\n",
       "    }\n",
       "    progress:not([value]), progress:not([value])::-webkit-progress-bar {\n",
       "        background: repeating-linear-gradient(45deg, #7e7e7e, #7e7e7e 10px, #5c5c5c 10px, #5c5c5c 20px);\n",
       "    }\n",
       "    .progress-bar-interrupted, .progress-bar-interrupted::-webkit-progress-bar {\n",
       "        background: #F44336;\n",
       "    }\n",
       "</style>\n"
      ],
      "text/plain": [
       "<IPython.core.display.HTML object>"
      ]
     },
     "metadata": {},
     "output_type": "display_data"
    },
    {
     "data": {
      "text/html": [],
      "text/plain": [
       "<IPython.core.display.HTML object>"
      ]
     },
     "metadata": {},
     "output_type": "display_data"
    },
    {
     "data": {
      "text/html": [
       "<div>\n",
       "<style scoped>\n",
       "    .dataframe tbody tr th:only-of-type {\n",
       "        vertical-align: middle;\n",
       "    }\n",
       "\n",
       "    .dataframe tbody tr th {\n",
       "        vertical-align: top;\n",
       "    }\n",
       "\n",
       "    .dataframe thead th {\n",
       "        text-align: right;\n",
       "    }\n",
       "</style>\n",
       "<table border=\"1\" class=\"dataframe\">\n",
       "  <thead>\n",
       "    <tr style=\"text-align: right;\">\n",
       "      <th></th>\n",
       "      <th>prediction_id</th>\n",
       "      <th>cancer</th>\n",
       "    </tr>\n",
       "  </thead>\n",
       "  <tbody>\n",
       "    <tr>\n",
       "      <th>0</th>\n",
       "      <td>10008_L</td>\n",
       "      <td>0</td>\n",
       "    </tr>\n",
       "    <tr>\n",
       "      <th>1</th>\n",
       "      <td>10008_R</td>\n",
       "      <td>0</td>\n",
       "    </tr>\n",
       "  </tbody>\n",
       "</table>\n",
       "</div>"
      ],
      "text/plain": [
       "  prediction_id cancer\n",
       "0       10008_L      0\n",
       "1       10008_R      0"
      ]
     },
     "execution_count": 27,
     "metadata": {},
     "output_type": "execute_result"
    }
   ],
   "source": [
    "prediction_ids = []\n",
    "preds = []\n",
    "\n",
    "for _, row in test_csv.iterrows():\n",
    "    prediction_ids.append(row.prediction_id)\n",
    "    pred_image_path = image_dir_dicomsdl + str(row.patient_id) + '_' + str(row.image_id) + '.png'\n",
    "    pred = learn.predict(pred_image_path)[0]\n",
    "    preds.append(pred)\n",
    "\n",
    "submission = pd.DataFrame(data={'prediction_id': prediction_ids, 'cancer': preds}).groupby('prediction_id').max().reset_index()\n",
    "submission.head()"
   ]
  },
  {
   "cell_type": "code",
   "execution_count": 28,
   "id": "80d9a0b5",
   "metadata": {
    "execution": {
     "iopub.execute_input": "2023-02-05T12:18:35.228038Z",
     "iopub.status.busy": "2023-02-05T12:18:35.226497Z",
     "iopub.status.idle": "2023-02-05T12:18:35.234606Z",
     "shell.execute_reply": "2023-02-05T12:18:35.233707Z"
    },
    "papermill": {
     "duration": 0.023049,
     "end_time": "2023-02-05T12:18:35.236575",
     "exception": false,
     "start_time": "2023-02-05T12:18:35.213526",
     "status": "completed"
    },
    "tags": []
   },
   "outputs": [
    {
     "data": {
      "text/plain": [
       "'/kaggle/working/png_file_dic/10008_361203119.png'"
      ]
     },
     "execution_count": 28,
     "metadata": {},
     "output_type": "execute_result"
    }
   ],
   "source": [
    "pred_image_path"
   ]
  },
  {
   "cell_type": "code",
   "execution_count": 29,
   "id": "76e6712e",
   "metadata": {
    "execution": {
     "iopub.execute_input": "2023-02-05T12:18:35.261956Z",
     "iopub.status.busy": "2023-02-05T12:18:35.260412Z",
     "iopub.status.idle": "2023-02-05T12:18:35.266137Z",
     "shell.execute_reply": "2023-02-05T12:18:35.265280Z"
    },
    "papermill": {
     "duration": 0.019216,
     "end_time": "2023-02-05T12:18:35.268090",
     "exception": false,
     "start_time": "2023-02-05T12:18:35.248874",
     "status": "completed"
    },
    "tags": []
   },
   "outputs": [],
   "source": [
    "# import cv2\n",
    "# import numpy as np\n",
    "\n",
    "# img_file = '/kaggle/working/png_file_dic/10008_1591370361.png'\n",
    "# img = cv2.imread(img_file, cv2.IMREAD_COLOR)           # rgb\n",
    "# alpha_img = cv2.imread(img_file, cv2.IMREAD_UNCHANGED) # rgba\n",
    "# gray_img = cv2.imread(img_file, cv2.IMREAD_GRAYSCALE)  # grayscale\n",
    "\n",
    "# print(type(img))\n",
    "# print('RGB shape: ', img.shape)        # Rows, cols, channels\n",
    "# print('ARGB shape:', alpha_img.shape)\n",
    "# print('Gray shape:', gray_img.shape)\n",
    "# print('img.dtype: ', img.dtype)\n",
    "# print('img.size: ', img.size)"
   ]
  },
  {
   "cell_type": "code",
   "execution_count": 30,
   "id": "a02db093",
   "metadata": {
    "execution": {
     "iopub.execute_input": "2023-02-05T12:18:35.290679Z",
     "iopub.status.busy": "2023-02-05T12:18:35.289203Z",
     "iopub.status.idle": "2023-02-05T12:18:36.458448Z",
     "shell.execute_reply": "2023-02-05T12:18:36.456813Z"
    },
    "papermill": {
     "duration": 1.184124,
     "end_time": "2023-02-05T12:18:36.462127",
     "exception": false,
     "start_time": "2023-02-05T12:18:35.278003",
     "status": "completed"
    },
    "tags": []
   },
   "outputs": [],
   "source": [
    "!rm -r png_file_dic"
   ]
  },
  {
   "cell_type": "code",
   "execution_count": 31,
   "id": "ae9b83bc",
   "metadata": {
    "execution": {
     "iopub.execute_input": "2023-02-05T12:18:36.498440Z",
     "iopub.status.busy": "2023-02-05T12:18:36.497835Z",
     "iopub.status.idle": "2023-02-05T12:18:37.690110Z",
     "shell.execute_reply": "2023-02-05T12:18:37.688670Z"
    },
    "papermill": {
     "duration": 1.213154,
     "end_time": "2023-02-05T12:18:37.692503",
     "exception": false,
     "start_time": "2023-02-05T12:18:36.479349",
     "status": "completed"
    },
    "tags": []
   },
   "outputs": [],
   "source": [
    "!rm -r models"
   ]
  },
  {
   "cell_type": "code",
   "execution_count": 32,
   "id": "66455fe0",
   "metadata": {
    "execution": {
     "iopub.execute_input": "2023-02-05T12:18:37.716052Z",
     "iopub.status.busy": "2023-02-05T12:18:37.715204Z",
     "iopub.status.idle": "2023-02-05T12:18:37.725730Z",
     "shell.execute_reply": "2023-02-05T12:18:37.724811Z"
    },
    "papermill": {
     "duration": 0.024195,
     "end_time": "2023-02-05T12:18:37.727787",
     "exception": false,
     "start_time": "2023-02-05T12:18:37.703592",
     "status": "completed"
    },
    "tags": []
   },
   "outputs": [],
   "source": [
    "submission.to_csv('submission.csv', index=False)"
   ]
  }
 ],
 "metadata": {
  "kernelspec": {
   "display_name": "Python 3",
   "language": "python",
   "name": "python3"
  },
  "language_info": {
   "codemirror_mode": {
    "name": "ipython",
    "version": 3
   },
   "file_extension": ".py",
   "mimetype": "text/x-python",
   "name": "python",
   "nbconvert_exporter": "python",
   "pygments_lexer": "ipython3",
   "version": "3.7.12"
  },
  "papermill": {
   "default_parameters": {},
   "duration": 83.415903,
   "end_time": "2023-02-05T12:18:40.560906",
   "environment_variables": {},
   "exception": null,
   "input_path": "__notebook__.ipynb",
   "output_path": "__notebook__.ipynb",
   "parameters": {},
   "start_time": "2023-02-05T12:17:17.145003",
   "version": "2.3.4"
  }
 },
 "nbformat": 4,
 "nbformat_minor": 5
}
